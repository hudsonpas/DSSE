{
  "cells": [
    {
      "cell_type": "markdown",
      "id": "5ca10cc5-6e97-488f-8e76-5b847902631a",
      "metadata": {
        "id": "5ca10cc5-6e97-488f-8e76-5b847902631a"
      },
      "source": [
        "---"
      ]
    },
    {
      "cell_type": "markdown",
      "id": "a9d3fbb7-17cd-4d8c-a0a9-6c96adf2e2d5",
      "metadata": {
        "id": "a9d3fbb7-17cd-4d8c-a0a9-6c96adf2e2d5"
      },
      "source": [
        "# **Investigating Causes and Impacts of Air Pollution in Poland**\n",
        "### Obiective 2: Investigate the relationship between traffic and emissions using machine learning"
      ]
    },
    {
      "cell_type": "markdown",
      "id": "da8e6402-a594-477a-8d11-4ecf9b3a3acc",
      "metadata": {
        "id": "da8e6402-a594-477a-8d11-4ecf9b3a3acc"
      },
      "source": [
        "1. Acquire data of the same time range.\n",
        "\n",
        "2. Assemble a dataset with traffic performance data and emission data.\n",
        "Traffic performance data includes number of transactions and vehicles from National Toll Collection System.\n",
        "Emission data includes emission of road transport, such as NOX, PM2.5 and CH4.\n",
        "\n",
        "3. Preprocess the data and prepare the data for model fitting.\n",
        "\n",
        "4. Use training and test sets for model training and evaluation.\n",
        "\n",
        "5. Compare the three linear regression models used and find the best model for prediction.\n",
        "\n",
        "6. Predict the emission from road transport for the next three year."
      ]
    },
    {
      "cell_type": "markdown",
      "id": "d7ad75d7-fa6d-4767-9dc1-71514418f8ea",
      "metadata": {
        "id": "d7ad75d7-fa6d-4767-9dc1-71514418f8ea"
      },
      "source": [
        "## Load libraries"
      ]
    },
    {
      "cell_type": "code",
      "execution_count": 1,
      "id": "b4ef47c0-eea3-4b6d-ab06-748a18455f24",
      "metadata": {
        "id": "b4ef47c0-eea3-4b6d-ab06-748a18455f24"
      },
      "outputs": [],
      "source": [
        "# Load libraries\n",
        "import os\n",
        "from os.path import exists\n",
        "import requests\n",
        "import pandas as pd\n",
        "import matplotlib.pyplot as plt\n",
        "import sklearn\n",
        "import numpy as np\n",
        "from sklearn.model_selection import train_test_split\n",
        "from sklearn.multioutput import MultiOutputRegressor\n",
        "from sklearn.metrics import mean_squared_error, r2_score\n",
        "from sklearn.ensemble import RandomForestRegressor\n",
        "from sklearn.svm import LinearSVR\n",
        "from sklearn.linear_model import LinearRegression\n",
        "import warnings\n",
        "warnings.filterwarnings('ignore')"
      ]
    },
    {
      "cell_type": "markdown",
      "id": "dbdd5c23-454f-408f-a4d6-3ce3a15a9b1c",
      "metadata": {
        "id": "dbdd5c23-454f-408f-a4d6-3ce3a15a9b1c"
      },
      "source": [
        "## Creating directory for data"
      ]
    },
    {
      "cell_type": "code",
      "execution_count": 2,
      "id": "c2eafc34-bb70-4a3c-89af-ae954261928e",
      "metadata": {
        "id": "c2eafc34-bb70-4a3c-89af-ae954261928e",
        "outputId": "577ea496-0fb3-43f4-9c3d-b09a83c2b4da",
        "colab": {
          "base_uri": "https://localhost:8080/"
        }
      },
      "outputs": [
        {
          "output_type": "stream",
          "name": "stdout",
          "text": [
            "Directory datasets created\n"
          ]
        }
      ],
      "source": [
        "# Creating folders to storage datasets\n",
        "directory = \"datasets\"\n",
        "\n",
        "parent_dir = os.getcwd()\n",
        "\n",
        "data_path = parent_dir + directory\n",
        "\n",
        "path = os.path.join(parent_dir, directory)\n",
        "\n",
        "if not exists(path):\n",
        "    os.mkdir(path)\n",
        "\n",
        "print(f\"Directory {directory} created\")"
      ]
    },
    {
      "cell_type": "markdown",
      "id": "d649e57b-a8dd-492e-94ea-e090f7818c3c",
      "metadata": {
        "id": "d649e57b-a8dd-492e-94ea-e090f7818c3c"
      },
      "source": [
        "## Download data"
      ]
    },
    {
      "cell_type": "markdown",
      "id": "63b16e04-a678-451e-a27e-427252414339",
      "metadata": {
        "id": "63b16e04-a678-451e-a27e-427252414339"
      },
      "source": [
        "We download the preprocessed data from our github project because the original data is split by year and by province in the data source website.\n",
        "\n",
        "Data sources:\n",
        "\n",
        "https://transtat.stat.gov.pl/2-3/2-3-7.aspx\n",
        "\n",
        "https://transtat.stat.gov.pl/2-3/2-3-4.aspx\n",
        "\n",
        "https://transtat.stat.gov.pl/2-3/2-3-5.aspx\n",
        "\n",
        "https://transtat.stat.gov.pl/2-3/2-3-3.aspx\n",
        "\n",
        "https://transtat.stat.gov.pl/2-1/2-1-4.aspx\n",
        "\n",
        "https://transtat.stat.gov.pl/2-1/2-1-14.aspx"
      ]
    },
    {
      "cell_type": "markdown",
      "id": "22f17897-5879-49ba-853f-83d0b19b031b",
      "metadata": {
        "id": "22f17897-5879-49ba-853f-83d0b19b031b"
      },
      "source": [
        "N2O emission:"
      ]
    },
    {
      "cell_type": "code",
      "execution_count": 3,
      "id": "e45ca8cc-a91e-4ad1-8aaa-f1f9d72c24ea",
      "metadata": {
        "id": "e45ca8cc-a91e-4ad1-8aaa-f1f9d72c24ea"
      },
      "outputs": [],
      "source": [
        "if not exists(path + 'Indicator 2-3-7 - N2O emission by vehicle type.csv'):\n",
        "    url = \"https://raw.githubusercontent.com/hudsonpassos85/DSSE/main/ob2_dataset/Indicator 2-3-7 - N2O emission by vehicle type.csv\"\n",
        "    response = requests.get(url, stream=True)\n",
        "    with open(path + '\\\\' + 'Indicator 2-3-7 - N2O emission by vehicle type.csv', \"wb\") as f:\n",
        "        for chunk in response.iter_content(chunk_size=512):\n",
        "            if chunk:  # filter out keep-alive new chunks\n",
        "                f.write(chunk)"
      ]
    },
    {
      "cell_type": "markdown",
      "id": "6bacc5a7-82d5-4086-a7c7-e753d4baf780",
      "metadata": {
        "id": "6bacc5a7-82d5-4086-a7c7-e753d4baf780"
      },
      "source": [
        "NOx emission:"
      ]
    },
    {
      "cell_type": "code",
      "execution_count": 4,
      "id": "22c11eed-a820-41ff-b32f-44e732156e54",
      "metadata": {
        "id": "22c11eed-a820-41ff-b32f-44e732156e54"
      },
      "outputs": [],
      "source": [
        "if not exists(path + 'Indicator 2-3-4 - NOx emission by vehicle type.csv'):\n",
        "    url = \"https://raw.githubusercontent.com/hudsonpassos85/DSSE/main/ob2_dataset/Indicator 2-3-4 - NOx emission by vehicle type.csv\"\n",
        "    response = requests.get(url, stream=True)\n",
        "    with open(path + '\\\\' + 'Indicator 2-3-4 - NOx emission by vehicle type.csv', \"wb\") as f:\n",
        "        for chunk in response.iter_content(chunk_size=512):\n",
        "            if chunk:  # filter out keep-alive new chunks\n",
        "                f.write(chunk)"
      ]
    },
    {
      "cell_type": "markdown",
      "id": "1b2b0347-fa6a-4432-aeef-a43bebd7a04d",
      "metadata": {
        "id": "1b2b0347-fa6a-4432-aeef-a43bebd7a04d"
      },
      "source": [
        "CH4 emission:"
      ]
    },
    {
      "cell_type": "code",
      "execution_count": 5,
      "id": "121f4e57-1f38-486b-88e5-e742e82cf03b",
      "metadata": {
        "id": "121f4e57-1f38-486b-88e5-e742e82cf03b"
      },
      "outputs": [],
      "source": [
        "if not exists(path + 'Indicator 2-3-5 - CH4 emission by vehicle type.csv'):\n",
        "    url = \"https://raw.githubusercontent.com/hudsonpassos85/DSSE/main/ob2_dataset/Indicator 2-3-5 - CH4 emission by vehicle type.csv\"\n",
        "    response = requests.get(url, stream=True)\n",
        "    with open(path + '\\\\' + 'Indicator 2-3-5 - CH4 emission by vehicle type.csv', \"wb\") as f:\n",
        "        for chunk in response.iter_content(chunk_size=512):\n",
        "            if chunk:  # filter out keep-alive new chunks\n",
        "                f.write(chunk)"
      ]
    },
    {
      "cell_type": "markdown",
      "id": "aec75d3e-4609-4072-8cac-ed4350c59ba0",
      "metadata": {
        "id": "aec75d3e-4609-4072-8cac-ed4350c59ba0"
      },
      "source": [
        "PM2.5 emission:"
      ]
    },
    {
      "cell_type": "code",
      "execution_count": 6,
      "id": "868fbf29-81c4-4367-82c6-f108c8fa7c13",
      "metadata": {
        "id": "868fbf29-81c4-4367-82c6-f108c8fa7c13"
      },
      "outputs": [],
      "source": [
        "if not exists(path + 'Indicator 2-3-3 - PM2.5 emission by vehicle type.csv'):\n",
        "    url = \"https://raw.githubusercontent.com/hudsonpassos85/DSSE/main/ob2_dataset/Indicator 2-3-3 - PM2.5 emission by vehicle type.csv\"\n",
        "    response = requests.get(url, stream=True)\n",
        "    with open(path + '\\\\' + 'Indicator 2-3-3 - PM2.5 emission by vehicle type.csv', \"wb\") as f:\n",
        "        for chunk in response.iter_content(chunk_size=512):\n",
        "            if chunk:  # filter out keep-alive new chunks\n",
        "                f.write(chunk)"
      ]
    },
    {
      "cell_type": "markdown",
      "id": "20a7c414-0f42-4745-873d-348a11b878ea",
      "metadata": {
        "id": "20a7c414-0f42-4745-873d-348a11b878ea"
      },
      "source": [
        "Number of transactions (monthly):\n",
        "\n",
        "From National Toll Collection System and National Revenue Administration Electronic Toll Collection System"
      ]
    },
    {
      "cell_type": "code",
      "execution_count": 7,
      "id": "cdb70d1b-0a60-44f5-81b5-476512ee14ed",
      "metadata": {
        "id": "cdb70d1b-0a60-44f5-81b5-476512ee14ed"
      },
      "outputs": [],
      "source": [
        "if not exists(path + 'Indicator 2-1-4 - Number of transactions (monthly) by vehicle type.csv'):\n",
        "    url = \"https://raw.githubusercontent.com/hudsonpassos85/DSSE/main/ob2_dataset/Indicator 2-1-4 - Number of transactions (monthly) by vehicle type.csv\"\n",
        "    response = requests.get(url, stream=True)\n",
        "    with open(path + '\\\\' + 'Indicator 2-1-4 - Number of transactions (monthly) by vehicle type.csv', \"wb\") as f:\n",
        "        for chunk in response.iter_content(chunk_size=512):\n",
        "            if chunk:  # filter out keep-alive new chunks\n",
        "                f.write(chunk)"
      ]
    },
    {
      "cell_type": "markdown",
      "id": "3ede307b-e3fb-4fc6-80a3-bd937e16e765",
      "metadata": {
        "id": "3ede307b-e3fb-4fc6-80a3-bd937e16e765"
      },
      "source": [
        "Number of vehicles (monthly):\n",
        "\n",
        "From National Toll Collection System and National Revenue Administration Electronic Toll Collection System"
      ]
    },
    {
      "cell_type": "code",
      "execution_count": 8,
      "id": "9683b5fc-ff28-4765-892c-434483247107",
      "metadata": {
        "id": "9683b5fc-ff28-4765-892c-434483247107"
      },
      "outputs": [],
      "source": [
        "if not exists(path + 'Indicator 2-1-14 - Number of vehicles (monthly) by vehicle type.csv'):\n",
        "    url = \"https://raw.githubusercontent.com/hudsonpassos85/DSSE/main/ob2_dataset/Indicator 2-1-14 - Number of vehicles (monthly) by vehicle type.csv\"\n",
        "    response = requests.get(url, stream=True)\n",
        "    with open(path + '\\\\' + 'Indicator 2-1-14 - Number of vehicles (monthly) by vehicle type.csv', \"wb\") as f:\n",
        "        for chunk in response.iter_content(chunk_size=512):\n",
        "            if chunk:  # filter out keep-alive new chunks\n",
        "                f.write(chunk)"
      ]
    },
    {
      "cell_type": "markdown",
      "id": "74d688a3-9351-4b59-99ef-d27d66d89b8a",
      "metadata": {
        "id": "74d688a3-9351-4b59-99ef-d27d66d89b8a"
      },
      "source": [
        "## Preprocess datasets"
      ]
    },
    {
      "cell_type": "code",
      "execution_count": 9,
      "id": "38e0dfc8-c788-4400-ac70-657c636c7897",
      "metadata": {
        "id": "38e0dfc8-c788-4400-ac70-657c636c7897"
      },
      "outputs": [],
      "source": [
        "# Read datasets\n",
        "n2o_emission = pd.read_csv(path + '\\\\' + 'Indicator 2-3-7 - N2O emission by vehicle type.csv')\n",
        "nox_emission = pd.read_csv(path + '\\\\' + 'Indicator 2-3-4 - NOx emission by vehicle type.csv')\n",
        "ch4_emission = pd.read_csv(path + '\\\\' + 'Indicator 2-3-5 - CH4 emission by vehicle type.csv')\n",
        "pm25_emission = pd.read_csv(path + '\\\\' + 'Indicator 2-3-3 - PM2.5 emission by vehicle type.csv')\n",
        "transactions = pd.read_csv(path + '\\\\' + 'Indicator 2-1-4 - Number of transactions (monthly) by vehicle type.csv')\n",
        "vehicles = pd.read_csv(path + '\\\\' + 'Indicator 2-1-14 - Number of vehicles (monthly) by vehicle type.csv')"
      ]
    },
    {
      "cell_type": "code",
      "execution_count": 10,
      "id": "a9980f8f-d61d-4408-80bf-52fae1112120",
      "metadata": {
        "id": "a9980f8f-d61d-4408-80bf-52fae1112120"
      },
      "outputs": [],
      "source": [
        "# Preprocess emission datasets\n",
        "n2o_emission = n2o_emission.sort_values(by = ['Year','Quarter'], ignore_index = True)\n",
        "nox_emission = nox_emission.sort_values(by = ['Year','Quarter'], ignore_index = True)\n",
        "ch4_emission = ch4_emission.sort_values(by = ['Year','Quarter'], ignore_index = True)\n",
        "pm25_emission = pm25_emission.sort_values(by = ['Year','Quarter'], ignore_index = True)\n",
        "\n",
        "# Merge the emission data into a single dataset\n",
        "emission = pd.DataFrame()\n",
        "emission['n2o'] = n2o_emission['Total']\n",
        "emission['nox'] = nox_emission['Total']\n",
        "emission['ch4'] = ch4_emission['Total']\n",
        "emission['pm2.5'] = pm25_emission['Total']"
      ]
    },
    {
      "cell_type": "code",
      "execution_count": 11,
      "id": "7663d826-9461-4f28-81b7-cf94f228de63",
      "metadata": {
        "id": "7663d826-9461-4f28-81b7-cf94f228de63"
      },
      "outputs": [],
      "source": [
        "# Unify time scale to quarter\n",
        "transactions['date'] = pd.to_datetime(transactions['Month']+' '+transactions['Year'].astype(str), format='%B %Y')\n",
        "transactions.index = transactions['date']\n",
        "transactions = transactions.drop('date',axis=1)\n",
        "transactions_quarterly = transactions.resample('Q').sum()\n",
        "transactions_quarterly['Year'] = transactions_quarterly.index.year\n",
        "transactions_quarterly['Quarter'] = transactions_quarterly.index.quarter\n",
        "transactions_quarterly = transactions_quarterly.reset_index()\n",
        "\n",
        "vehicles['date'] = pd.to_datetime(vehicles['Month']+' '+vehicles['Year'].astype(str), format='%B %Y')\n",
        "vehicles.index = vehicles['date']\n",
        "vehicles = vehicles.drop('date',axis=1)\n",
        "vehicles_quarterly = vehicles.resample('Q').sum()\n",
        "vehicles_quarterly['Year'] = vehicles_quarterly.index.year\n",
        "vehicles_quarterly['Quarter'] = vehicles_quarterly.index.quarter\n",
        "vehicles_quarterly = vehicles_quarterly.reset_index()"
      ]
    },
    {
      "cell_type": "code",
      "execution_count": 12,
      "id": "1af18672-33eb-4411-ad1f-1d94a791ae9f",
      "metadata": {
        "id": "1af18672-33eb-4411-ad1f-1d94a791ae9f"
      },
      "outputs": [],
      "source": [
        "# Sum different types vehicles\n",
        "transactions_quarterly['total_transactions'] = transactions_quarterly.iloc[:,3:7].sum(axis = 1)\n",
        "\n",
        "vehicles_quarterly['total_vehicles'] = vehicles_quarterly.iloc[:,3:7].sum(axis = 1)"
      ]
    },
    {
      "cell_type": "code",
      "execution_count": 13,
      "id": "706db18f-0a9e-4d5d-8772-c93d9fc272f4",
      "metadata": {
        "id": "706db18f-0a9e-4d5d-8772-c93d9fc272f4"
      },
      "outputs": [],
      "source": [
        "# Prepare training and test data\n",
        "x = transactions_quarterly[['total_transactions']].merge(vehicles_quarterly[['total_vehicles']],\n",
        "                                                         left_index=True,\n",
        "                                                         right_index=True\n",
        "                                                        ).iloc[0:16,:]"
      ]
    },
    {
      "cell_type": "code",
      "execution_count": 14,
      "id": "cd40322b-1d5d-4087-a6d4-02b0a8788737",
      "metadata": {
        "id": "cd40322b-1d5d-4087-a6d4-02b0a8788737"
      },
      "outputs": [],
      "source": [
        "# Create train and test sets\n",
        "y = emission\n",
        "\n",
        "x_train, x_test, y_train, y_test = train_test_split(x, y, test_size=0.3, random_state=32)"
      ]
    },
    {
      "cell_type": "markdown",
      "id": "7ce97150-9828-45a0-b1ba-264cc2b6e27a",
      "metadata": {
        "id": "7ce97150-9828-45a0-b1ba-264cc2b6e27a"
      },
      "source": [
        "## Random Forest Regression"
      ]
    },
    {
      "cell_type": "code",
      "execution_count": 15,
      "id": "51a04236-3188-422c-90ea-2990bf51c6be",
      "metadata": {
        "id": "51a04236-3188-422c-90ea-2990bf51c6be"
      },
      "outputs": [],
      "source": [
        "# Fitting Random Forest Regression to the dataset\n",
        "RFregressor = MultiOutputRegressor(RandomForestRegressor(random_state=500))"
      ]
    },
    {
      "cell_type": "code",
      "execution_count": 16,
      "id": "51d03bab-6432-45b2-b237-3b26b03ee4d9",
      "metadata": {
        "id": "51d03bab-6432-45b2-b237-3b26b03ee4d9",
        "outputId": "54719225-a90b-4830-9338-7440776a7c0e",
        "colab": {
          "base_uri": "https://localhost:8080/",
          "height": 116
        }
      },
      "outputs": [
        {
          "output_type": "execute_result",
          "data": {
            "text/plain": [
              "MultiOutputRegressor(estimator=RandomForestRegressor(random_state=500))"
            ],
            "text/html": [
              "<style>#sk-container-id-1 {color: black;background-color: white;}#sk-container-id-1 pre{padding: 0;}#sk-container-id-1 div.sk-toggleable {background-color: white;}#sk-container-id-1 label.sk-toggleable__label {cursor: pointer;display: block;width: 100%;margin-bottom: 0;padding: 0.3em;box-sizing: border-box;text-align: center;}#sk-container-id-1 label.sk-toggleable__label-arrow:before {content: \"▸\";float: left;margin-right: 0.25em;color: #696969;}#sk-container-id-1 label.sk-toggleable__label-arrow:hover:before {color: black;}#sk-container-id-1 div.sk-estimator:hover label.sk-toggleable__label-arrow:before {color: black;}#sk-container-id-1 div.sk-toggleable__content {max-height: 0;max-width: 0;overflow: hidden;text-align: left;background-color: #f0f8ff;}#sk-container-id-1 div.sk-toggleable__content pre {margin: 0.2em;color: black;border-radius: 0.25em;background-color: #f0f8ff;}#sk-container-id-1 input.sk-toggleable__control:checked~div.sk-toggleable__content {max-height: 200px;max-width: 100%;overflow: auto;}#sk-container-id-1 input.sk-toggleable__control:checked~label.sk-toggleable__label-arrow:before {content: \"▾\";}#sk-container-id-1 div.sk-estimator input.sk-toggleable__control:checked~label.sk-toggleable__label {background-color: #d4ebff;}#sk-container-id-1 div.sk-label input.sk-toggleable__control:checked~label.sk-toggleable__label {background-color: #d4ebff;}#sk-container-id-1 input.sk-hidden--visually {border: 0;clip: rect(1px 1px 1px 1px);clip: rect(1px, 1px, 1px, 1px);height: 1px;margin: -1px;overflow: hidden;padding: 0;position: absolute;width: 1px;}#sk-container-id-1 div.sk-estimator {font-family: monospace;background-color: #f0f8ff;border: 1px dotted black;border-radius: 0.25em;box-sizing: border-box;margin-bottom: 0.5em;}#sk-container-id-1 div.sk-estimator:hover {background-color: #d4ebff;}#sk-container-id-1 div.sk-parallel-item::after {content: \"\";width: 100%;border-bottom: 1px solid gray;flex-grow: 1;}#sk-container-id-1 div.sk-label:hover label.sk-toggleable__label {background-color: #d4ebff;}#sk-container-id-1 div.sk-serial::before {content: \"\";position: absolute;border-left: 1px solid gray;box-sizing: border-box;top: 0;bottom: 0;left: 50%;z-index: 0;}#sk-container-id-1 div.sk-serial {display: flex;flex-direction: column;align-items: center;background-color: white;padding-right: 0.2em;padding-left: 0.2em;position: relative;}#sk-container-id-1 div.sk-item {position: relative;z-index: 1;}#sk-container-id-1 div.sk-parallel {display: flex;align-items: stretch;justify-content: center;background-color: white;position: relative;}#sk-container-id-1 div.sk-item::before, #sk-container-id-1 div.sk-parallel-item::before {content: \"\";position: absolute;border-left: 1px solid gray;box-sizing: border-box;top: 0;bottom: 0;left: 50%;z-index: -1;}#sk-container-id-1 div.sk-parallel-item {display: flex;flex-direction: column;z-index: 1;position: relative;background-color: white;}#sk-container-id-1 div.sk-parallel-item:first-child::after {align-self: flex-end;width: 50%;}#sk-container-id-1 div.sk-parallel-item:last-child::after {align-self: flex-start;width: 50%;}#sk-container-id-1 div.sk-parallel-item:only-child::after {width: 0;}#sk-container-id-1 div.sk-dashed-wrapped {border: 1px dashed gray;margin: 0 0.4em 0.5em 0.4em;box-sizing: border-box;padding-bottom: 0.4em;background-color: white;}#sk-container-id-1 div.sk-label label {font-family: monospace;font-weight: bold;display: inline-block;line-height: 1.2em;}#sk-container-id-1 div.sk-label-container {text-align: center;}#sk-container-id-1 div.sk-container {/* jupyter's `normalize.less` sets `[hidden] { display: none; }` but bootstrap.min.css set `[hidden] { display: none !important; }` so we also need the `!important` here to be able to override the default hidden behavior on the sphinx rendered scikit-learn.org. See: https://github.com/scikit-learn/scikit-learn/issues/21755 */display: inline-block !important;position: relative;}#sk-container-id-1 div.sk-text-repr-fallback {display: none;}</style><div id=\"sk-container-id-1\" class=\"sk-top-container\"><div class=\"sk-text-repr-fallback\"><pre>MultiOutputRegressor(estimator=RandomForestRegressor(random_state=500))</pre><b>In a Jupyter environment, please rerun this cell to show the HTML representation or trust the notebook. <br />On GitHub, the HTML representation is unable to render, please try loading this page with nbviewer.org.</b></div><div class=\"sk-container\" hidden><div class=\"sk-item sk-dashed-wrapped\"><div class=\"sk-label-container\"><div class=\"sk-label sk-toggleable\"><input class=\"sk-toggleable__control sk-hidden--visually\" id=\"sk-estimator-id-1\" type=\"checkbox\" ><label for=\"sk-estimator-id-1\" class=\"sk-toggleable__label sk-toggleable__label-arrow\">MultiOutputRegressor</label><div class=\"sk-toggleable__content\"><pre>MultiOutputRegressor(estimator=RandomForestRegressor(random_state=500))</pre></div></div></div><div class=\"sk-parallel\"><div class=\"sk-parallel-item\"><div class=\"sk-item\"><div class=\"sk-label-container\"><div class=\"sk-label sk-toggleable\"><input class=\"sk-toggleable__control sk-hidden--visually\" id=\"sk-estimator-id-2\" type=\"checkbox\" ><label for=\"sk-estimator-id-2\" class=\"sk-toggleable__label sk-toggleable__label-arrow\">estimator: RandomForestRegressor</label><div class=\"sk-toggleable__content\"><pre>RandomForestRegressor(random_state=500)</pre></div></div></div><div class=\"sk-serial\"><div class=\"sk-item\"><div class=\"sk-estimator sk-toggleable\"><input class=\"sk-toggleable__control sk-hidden--visually\" id=\"sk-estimator-id-3\" type=\"checkbox\" ><label for=\"sk-estimator-id-3\" class=\"sk-toggleable__label sk-toggleable__label-arrow\">RandomForestRegressor</label><div class=\"sk-toggleable__content\"><pre>RandomForestRegressor(random_state=500)</pre></div></div></div></div></div></div></div></div></div></div>"
            ]
          },
          "metadata": {},
          "execution_count": 16
        }
      ],
      "source": [
        "# Fit the regressor with x and y data\n",
        "RFregressor.fit(x_train, y_train)"
      ]
    },
    {
      "cell_type": "code",
      "execution_count": 17,
      "id": "9523f4b8-c2e5-40b2-bd19-7c24e549e63d",
      "metadata": {
        "id": "9523f4b8-c2e5-40b2-bd19-7c24e549e63d"
      },
      "outputs": [],
      "source": [
        "# Make the prediction\n",
        "y_pred = RFregressor.predict(x_test)"
      ]
    },
    {
      "cell_type": "code",
      "execution_count": 18,
      "id": "33c71454-67aa-499e-8f1c-7aeb569bcf09",
      "metadata": {
        "id": "33c71454-67aa-499e-8f1c-7aeb569bcf09",
        "outputId": "476aae0c-945d-46c0-fed1-5f7520c04553",
        "colab": {
          "base_uri": "https://localhost:8080/"
        }
      },
      "outputs": [
        {
          "output_type": "stream",
          "name": "stdout",
          "text": [
            "Mean Squared Error: 438904.8219667969\n",
            "R-squared: 0.4412701690718347\n"
          ]
        }
      ],
      "source": [
        "# Evaluate the model\n",
        "mse_RF = mean_squared_error(y_test, y_pred)\n",
        "print(f'Mean Squared Error: {mse_RF}')\n",
        "\n",
        "r2_RF = r2_score(y_test, y_pred)\n",
        "print(f'R-squared: {r2_RF}')"
      ]
    },
    {
      "cell_type": "markdown",
      "id": "1037f4ba-0da5-409c-a062-8598ee8254b6",
      "metadata": {
        "id": "1037f4ba-0da5-409c-a062-8598ee8254b6"
      },
      "source": [
        "## Support Vector Regression"
      ]
    },
    {
      "cell_type": "code",
      "execution_count": 19,
      "id": "c54ade1b-1197-499b-9ff1-4a4198e69f8a",
      "metadata": {
        "id": "c54ade1b-1197-499b-9ff1-4a4198e69f8a"
      },
      "outputs": [],
      "source": [
        "# Create the SVR model\n",
        "SVRregressor = MultiOutputRegressor(LinearSVR(random_state=500))"
      ]
    },
    {
      "cell_type": "code",
      "execution_count": 20,
      "id": "0f7900a0-e9ec-41e8-a20c-f960466f852e",
      "metadata": {
        "id": "0f7900a0-e9ec-41e8-a20c-f960466f852e",
        "outputId": "4ff658d8-6c88-4e3b-ecbb-79d8c836da31",
        "colab": {
          "base_uri": "https://localhost:8080/",
          "height": 116
        }
      },
      "outputs": [
        {
          "output_type": "execute_result",
          "data": {
            "text/plain": [
              "MultiOutputRegressor(estimator=LinearSVR(random_state=500))"
            ],
            "text/html": [
              "<style>#sk-container-id-2 {color: black;background-color: white;}#sk-container-id-2 pre{padding: 0;}#sk-container-id-2 div.sk-toggleable {background-color: white;}#sk-container-id-2 label.sk-toggleable__label {cursor: pointer;display: block;width: 100%;margin-bottom: 0;padding: 0.3em;box-sizing: border-box;text-align: center;}#sk-container-id-2 label.sk-toggleable__label-arrow:before {content: \"▸\";float: left;margin-right: 0.25em;color: #696969;}#sk-container-id-2 label.sk-toggleable__label-arrow:hover:before {color: black;}#sk-container-id-2 div.sk-estimator:hover label.sk-toggleable__label-arrow:before {color: black;}#sk-container-id-2 div.sk-toggleable__content {max-height: 0;max-width: 0;overflow: hidden;text-align: left;background-color: #f0f8ff;}#sk-container-id-2 div.sk-toggleable__content pre {margin: 0.2em;color: black;border-radius: 0.25em;background-color: #f0f8ff;}#sk-container-id-2 input.sk-toggleable__control:checked~div.sk-toggleable__content {max-height: 200px;max-width: 100%;overflow: auto;}#sk-container-id-2 input.sk-toggleable__control:checked~label.sk-toggleable__label-arrow:before {content: \"▾\";}#sk-container-id-2 div.sk-estimator input.sk-toggleable__control:checked~label.sk-toggleable__label {background-color: #d4ebff;}#sk-container-id-2 div.sk-label input.sk-toggleable__control:checked~label.sk-toggleable__label {background-color: #d4ebff;}#sk-container-id-2 input.sk-hidden--visually {border: 0;clip: rect(1px 1px 1px 1px);clip: rect(1px, 1px, 1px, 1px);height: 1px;margin: -1px;overflow: hidden;padding: 0;position: absolute;width: 1px;}#sk-container-id-2 div.sk-estimator {font-family: monospace;background-color: #f0f8ff;border: 1px dotted black;border-radius: 0.25em;box-sizing: border-box;margin-bottom: 0.5em;}#sk-container-id-2 div.sk-estimator:hover {background-color: #d4ebff;}#sk-container-id-2 div.sk-parallel-item::after {content: \"\";width: 100%;border-bottom: 1px solid gray;flex-grow: 1;}#sk-container-id-2 div.sk-label:hover label.sk-toggleable__label {background-color: #d4ebff;}#sk-container-id-2 div.sk-serial::before {content: \"\";position: absolute;border-left: 1px solid gray;box-sizing: border-box;top: 0;bottom: 0;left: 50%;z-index: 0;}#sk-container-id-2 div.sk-serial {display: flex;flex-direction: column;align-items: center;background-color: white;padding-right: 0.2em;padding-left: 0.2em;position: relative;}#sk-container-id-2 div.sk-item {position: relative;z-index: 1;}#sk-container-id-2 div.sk-parallel {display: flex;align-items: stretch;justify-content: center;background-color: white;position: relative;}#sk-container-id-2 div.sk-item::before, #sk-container-id-2 div.sk-parallel-item::before {content: \"\";position: absolute;border-left: 1px solid gray;box-sizing: border-box;top: 0;bottom: 0;left: 50%;z-index: -1;}#sk-container-id-2 div.sk-parallel-item {display: flex;flex-direction: column;z-index: 1;position: relative;background-color: white;}#sk-container-id-2 div.sk-parallel-item:first-child::after {align-self: flex-end;width: 50%;}#sk-container-id-2 div.sk-parallel-item:last-child::after {align-self: flex-start;width: 50%;}#sk-container-id-2 div.sk-parallel-item:only-child::after {width: 0;}#sk-container-id-2 div.sk-dashed-wrapped {border: 1px dashed gray;margin: 0 0.4em 0.5em 0.4em;box-sizing: border-box;padding-bottom: 0.4em;background-color: white;}#sk-container-id-2 div.sk-label label {font-family: monospace;font-weight: bold;display: inline-block;line-height: 1.2em;}#sk-container-id-2 div.sk-label-container {text-align: center;}#sk-container-id-2 div.sk-container {/* jupyter's `normalize.less` sets `[hidden] { display: none; }` but bootstrap.min.css set `[hidden] { display: none !important; }` so we also need the `!important` here to be able to override the default hidden behavior on the sphinx rendered scikit-learn.org. See: https://github.com/scikit-learn/scikit-learn/issues/21755 */display: inline-block !important;position: relative;}#sk-container-id-2 div.sk-text-repr-fallback {display: none;}</style><div id=\"sk-container-id-2\" class=\"sk-top-container\"><div class=\"sk-text-repr-fallback\"><pre>MultiOutputRegressor(estimator=LinearSVR(random_state=500))</pre><b>In a Jupyter environment, please rerun this cell to show the HTML representation or trust the notebook. <br />On GitHub, the HTML representation is unable to render, please try loading this page with nbviewer.org.</b></div><div class=\"sk-container\" hidden><div class=\"sk-item sk-dashed-wrapped\"><div class=\"sk-label-container\"><div class=\"sk-label sk-toggleable\"><input class=\"sk-toggleable__control sk-hidden--visually\" id=\"sk-estimator-id-4\" type=\"checkbox\" ><label for=\"sk-estimator-id-4\" class=\"sk-toggleable__label sk-toggleable__label-arrow\">MultiOutputRegressor</label><div class=\"sk-toggleable__content\"><pre>MultiOutputRegressor(estimator=LinearSVR(random_state=500))</pre></div></div></div><div class=\"sk-parallel\"><div class=\"sk-parallel-item\"><div class=\"sk-item\"><div class=\"sk-label-container\"><div class=\"sk-label sk-toggleable\"><input class=\"sk-toggleable__control sk-hidden--visually\" id=\"sk-estimator-id-5\" type=\"checkbox\" ><label for=\"sk-estimator-id-5\" class=\"sk-toggleable__label sk-toggleable__label-arrow\">estimator: LinearSVR</label><div class=\"sk-toggleable__content\"><pre>LinearSVR(random_state=500)</pre></div></div></div><div class=\"sk-serial\"><div class=\"sk-item\"><div class=\"sk-estimator sk-toggleable\"><input class=\"sk-toggleable__control sk-hidden--visually\" id=\"sk-estimator-id-6\" type=\"checkbox\" ><label for=\"sk-estimator-id-6\" class=\"sk-toggleable__label sk-toggleable__label-arrow\">LinearSVR</label><div class=\"sk-toggleable__content\"><pre>LinearSVR(random_state=500)</pre></div></div></div></div></div></div></div></div></div></div>"
            ]
          },
          "metadata": {},
          "execution_count": 20
        }
      ],
      "source": [
        "# Train the model on the data\n",
        "SVRregressor.fit(x_train, y_train)"
      ]
    },
    {
      "cell_type": "code",
      "execution_count": 21,
      "id": "2ea91987-8f50-41f6-962c-7894c0f1a473",
      "metadata": {
        "id": "2ea91987-8f50-41f6-962c-7894c0f1a473"
      },
      "outputs": [],
      "source": [
        "# Make predictions on the data\n",
        "y_pred = SVRregressor.predict(x_test)"
      ]
    },
    {
      "cell_type": "code",
      "execution_count": 22,
      "id": "d063f3d6-e7b8-4655-8413-8c6b0e904eac",
      "metadata": {
        "id": "d063f3d6-e7b8-4655-8413-8c6b0e904eac",
        "outputId": "e87a162d-98bf-4a64-8516-ba40ec830352",
        "colab": {
          "base_uri": "https://localhost:8080/"
        }
      },
      "outputs": [
        {
          "output_type": "stream",
          "name": "stdout",
          "text": [
            "Mean Squared Error: 39477647.71463582\n",
            "R-squared: -139.28346233627212\n"
          ]
        }
      ],
      "source": [
        "# Evaluate the model\n",
        "mse_SVR = mean_squared_error(y_test, y_pred)\n",
        "print(f'Mean Squared Error: {mse_SVR}')\n",
        "\n",
        "r2_SVR = r2_score(y_test, y_pred)\n",
        "print(f'R-squared: {r2_SVR}')"
      ]
    },
    {
      "cell_type": "markdown",
      "id": "8f0a9002-844d-403f-a5d5-a07b96400c9b",
      "metadata": {
        "id": "8f0a9002-844d-403f-a5d5-a07b96400c9b"
      },
      "source": [
        "## Multiple Linear Regression"
      ]
    },
    {
      "cell_type": "code",
      "execution_count": 23,
      "id": "c3f4f1e6-c27b-4031-93b1-784dab166bb5",
      "metadata": {
        "id": "c3f4f1e6-c27b-4031-93b1-784dab166bb5"
      },
      "outputs": [],
      "source": [
        "# Create a linear regression model\n",
        "LinearRegressor = MultiOutputRegressor(LinearRegression())"
      ]
    },
    {
      "cell_type": "code",
      "execution_count": 24,
      "id": "8e4e598b-294f-4ba5-845a-d9454139a1df",
      "metadata": {
        "id": "8e4e598b-294f-4ba5-845a-d9454139a1df",
        "outputId": "c442ac1b-cc00-4b4c-8d2b-9e394f2161ab",
        "colab": {
          "base_uri": "https://localhost:8080/",
          "height": 116
        }
      },
      "outputs": [
        {
          "output_type": "execute_result",
          "data": {
            "text/plain": [
              "MultiOutputRegressor(estimator=LinearRegression())"
            ],
            "text/html": [
              "<style>#sk-container-id-3 {color: black;background-color: white;}#sk-container-id-3 pre{padding: 0;}#sk-container-id-3 div.sk-toggleable {background-color: white;}#sk-container-id-3 label.sk-toggleable__label {cursor: pointer;display: block;width: 100%;margin-bottom: 0;padding: 0.3em;box-sizing: border-box;text-align: center;}#sk-container-id-3 label.sk-toggleable__label-arrow:before {content: \"▸\";float: left;margin-right: 0.25em;color: #696969;}#sk-container-id-3 label.sk-toggleable__label-arrow:hover:before {color: black;}#sk-container-id-3 div.sk-estimator:hover label.sk-toggleable__label-arrow:before {color: black;}#sk-container-id-3 div.sk-toggleable__content {max-height: 0;max-width: 0;overflow: hidden;text-align: left;background-color: #f0f8ff;}#sk-container-id-3 div.sk-toggleable__content pre {margin: 0.2em;color: black;border-radius: 0.25em;background-color: #f0f8ff;}#sk-container-id-3 input.sk-toggleable__control:checked~div.sk-toggleable__content {max-height: 200px;max-width: 100%;overflow: auto;}#sk-container-id-3 input.sk-toggleable__control:checked~label.sk-toggleable__label-arrow:before {content: \"▾\";}#sk-container-id-3 div.sk-estimator input.sk-toggleable__control:checked~label.sk-toggleable__label {background-color: #d4ebff;}#sk-container-id-3 div.sk-label input.sk-toggleable__control:checked~label.sk-toggleable__label {background-color: #d4ebff;}#sk-container-id-3 input.sk-hidden--visually {border: 0;clip: rect(1px 1px 1px 1px);clip: rect(1px, 1px, 1px, 1px);height: 1px;margin: -1px;overflow: hidden;padding: 0;position: absolute;width: 1px;}#sk-container-id-3 div.sk-estimator {font-family: monospace;background-color: #f0f8ff;border: 1px dotted black;border-radius: 0.25em;box-sizing: border-box;margin-bottom: 0.5em;}#sk-container-id-3 div.sk-estimator:hover {background-color: #d4ebff;}#sk-container-id-3 div.sk-parallel-item::after {content: \"\";width: 100%;border-bottom: 1px solid gray;flex-grow: 1;}#sk-container-id-3 div.sk-label:hover label.sk-toggleable__label {background-color: #d4ebff;}#sk-container-id-3 div.sk-serial::before {content: \"\";position: absolute;border-left: 1px solid gray;box-sizing: border-box;top: 0;bottom: 0;left: 50%;z-index: 0;}#sk-container-id-3 div.sk-serial {display: flex;flex-direction: column;align-items: center;background-color: white;padding-right: 0.2em;padding-left: 0.2em;position: relative;}#sk-container-id-3 div.sk-item {position: relative;z-index: 1;}#sk-container-id-3 div.sk-parallel {display: flex;align-items: stretch;justify-content: center;background-color: white;position: relative;}#sk-container-id-3 div.sk-item::before, #sk-container-id-3 div.sk-parallel-item::before {content: \"\";position: absolute;border-left: 1px solid gray;box-sizing: border-box;top: 0;bottom: 0;left: 50%;z-index: -1;}#sk-container-id-3 div.sk-parallel-item {display: flex;flex-direction: column;z-index: 1;position: relative;background-color: white;}#sk-container-id-3 div.sk-parallel-item:first-child::after {align-self: flex-end;width: 50%;}#sk-container-id-3 div.sk-parallel-item:last-child::after {align-self: flex-start;width: 50%;}#sk-container-id-3 div.sk-parallel-item:only-child::after {width: 0;}#sk-container-id-3 div.sk-dashed-wrapped {border: 1px dashed gray;margin: 0 0.4em 0.5em 0.4em;box-sizing: border-box;padding-bottom: 0.4em;background-color: white;}#sk-container-id-3 div.sk-label label {font-family: monospace;font-weight: bold;display: inline-block;line-height: 1.2em;}#sk-container-id-3 div.sk-label-container {text-align: center;}#sk-container-id-3 div.sk-container {/* jupyter's `normalize.less` sets `[hidden] { display: none; }` but bootstrap.min.css set `[hidden] { display: none !important; }` so we also need the `!important` here to be able to override the default hidden behavior on the sphinx rendered scikit-learn.org. See: https://github.com/scikit-learn/scikit-learn/issues/21755 */display: inline-block !important;position: relative;}#sk-container-id-3 div.sk-text-repr-fallback {display: none;}</style><div id=\"sk-container-id-3\" class=\"sk-top-container\"><div class=\"sk-text-repr-fallback\"><pre>MultiOutputRegressor(estimator=LinearRegression())</pre><b>In a Jupyter environment, please rerun this cell to show the HTML representation or trust the notebook. <br />On GitHub, the HTML representation is unable to render, please try loading this page with nbviewer.org.</b></div><div class=\"sk-container\" hidden><div class=\"sk-item sk-dashed-wrapped\"><div class=\"sk-label-container\"><div class=\"sk-label sk-toggleable\"><input class=\"sk-toggleable__control sk-hidden--visually\" id=\"sk-estimator-id-7\" type=\"checkbox\" ><label for=\"sk-estimator-id-7\" class=\"sk-toggleable__label sk-toggleable__label-arrow\">MultiOutputRegressor</label><div class=\"sk-toggleable__content\"><pre>MultiOutputRegressor(estimator=LinearRegression())</pre></div></div></div><div class=\"sk-parallel\"><div class=\"sk-parallel-item\"><div class=\"sk-item\"><div class=\"sk-label-container\"><div class=\"sk-label sk-toggleable\"><input class=\"sk-toggleable__control sk-hidden--visually\" id=\"sk-estimator-id-8\" type=\"checkbox\" ><label for=\"sk-estimator-id-8\" class=\"sk-toggleable__label sk-toggleable__label-arrow\">estimator: LinearRegression</label><div class=\"sk-toggleable__content\"><pre>LinearRegression()</pre></div></div></div><div class=\"sk-serial\"><div class=\"sk-item\"><div class=\"sk-estimator sk-toggleable\"><input class=\"sk-toggleable__control sk-hidden--visually\" id=\"sk-estimator-id-9\" type=\"checkbox\" ><label for=\"sk-estimator-id-9\" class=\"sk-toggleable__label sk-toggleable__label-arrow\">LinearRegression</label><div class=\"sk-toggleable__content\"><pre>LinearRegression()</pre></div></div></div></div></div></div></div></div></div></div>"
            ]
          },
          "metadata": {},
          "execution_count": 24
        }
      ],
      "source": [
        "# Fit the model\n",
        "LinearRegressor.fit(x_train, y_train)"
      ]
    },
    {
      "cell_type": "code",
      "execution_count": 25,
      "id": "cf0975a3-d2e4-439c-a553-280d39debedc",
      "metadata": {
        "id": "cf0975a3-d2e4-439c-a553-280d39debedc"
      },
      "outputs": [],
      "source": [
        "# Make predictions\n",
        "y_pred = LinearRegressor.predict(x_test)"
      ]
    },
    {
      "cell_type": "code",
      "execution_count": 26,
      "id": "779a800f-15e8-4e8d-ac30-aeaa228496da",
      "metadata": {
        "id": "779a800f-15e8-4e8d-ac30-aeaa228496da",
        "outputId": "abc872b3-7e6c-493e-beb7-f13eaf680bb6",
        "colab": {
          "base_uri": "https://localhost:8080/"
        }
      },
      "outputs": [
        {
          "output_type": "stream",
          "name": "stdout",
          "text": [
            "Mean Squared Error: 188641.41005873526\n",
            "R-squared: 0.7248884565462297\n"
          ]
        }
      ],
      "source": [
        "# Evaluate the model\n",
        "mse_Linear = mean_squared_error(y_test, y_pred)\n",
        "print(f'Mean Squared Error: {mse_Linear}')\n",
        "\n",
        "r2_Linear = r2_score(y_test, y_pred)\n",
        "print(f'R-squared: {r2_Linear}')"
      ]
    },
    {
      "cell_type": "markdown",
      "id": "69b84605-7b09-4110-9f0a-5b3ca67cb3ea",
      "metadata": {
        "id": "69b84605-7b09-4110-9f0a-5b3ca67cb3ea"
      },
      "source": [
        "## Model Evaluation and Discussion"
      ]
    },
    {
      "cell_type": "markdown",
      "id": "c3af1648-6303-44d6-912c-9a5c3f758cd2",
      "metadata": {
        "id": "c3af1648-6303-44d6-912c-9a5c3f758cd2"
      },
      "source": [
        "### Discussion on the negative R-squared"
      ]
    },
    {
      "cell_type": "markdown",
      "id": "5b913fb9-71b5-450e-8abd-34194ccc6c0d",
      "metadata": {
        "id": "5b913fb9-71b5-450e-8abd-34194ccc6c0d"
      },
      "source": [
        "\n",
        "We get a negative value for the R-squared in Support Vector Regression. A negative R-squared usually indicates that the model used is not a good fit for the data, because the model can be arbitrarily worse, as is described in the documentation of scikit-learn. There are several possible causes for this problem:\n",
        "1. There could be over-fitting in our model. It can be caused by various reasons like small dataset and noise in the dataset. Our dataset is indeed small, so this can be the main reason.\n",
        "2. R-squared is for least squares regression and not usually for SVR. R-squared is not commonly used to evaluate the SVR model. Metrics such as Mean Squared Error (MSE) or Mean Absolute Error (MAE) are more typical for assessing the accuracy of predictions in SVR.\n",
        "\n",
        "*From https://www.researchgate.net/post/R-Square_value_is_negative_using_SVR_in_Python#:~:text=Dear%20Abdur%20Rasheed%20%2C-,R2%20is%20negative%20only%20when%20the%20chosen%20model%20does%20not,performance%20because%20of%20over%2Dfittual"
      ]
    },
    {
      "cell_type": "markdown",
      "id": "ce6ae0ec-879c-489b-935a-00c49cceb7d2",
      "metadata": {
        "id": "ce6ae0ec-879c-489b-935a-00c49cceb7d2"
      },
      "source": [
        "### Comparing models"
      ]
    },
    {
      "cell_type": "markdown",
      "id": "d2669600-7624-4bf2-89dd-ec655ad442ab",
      "metadata": {
        "id": "d2669600-7624-4bf2-89dd-ec655ad442ab"
      },
      "source": [
        "After comparing these three models, we found that the multiple linear regression model has the highest R-squared in the range of (0,1). A higher R-squared value generally indicates a better fit of the model to the data.\n",
        "\n",
        "The R-squared is not applicable for evaluating Support Vector Regression model, so it is necessary to campare the models again using MSE.\n",
        "\n",
        "Multiple linear regression model also gets the lowest Mean Squared Error. A lower MSE indicates better predictive performance, as it means that, on average, the model's predictions are closer to the actual values."
      ]
    },
    {
      "cell_type": "markdown",
      "id": "101bd11f-ea75-4b8b-80bc-66a277fea68b",
      "metadata": {
        "id": "101bd11f-ea75-4b8b-80bc-66a277fea68b"
      },
      "source": [
        "## Predict emission from road traffic in 2023"
      ]
    },
    {
      "cell_type": "markdown",
      "id": "c9fbd42b-6eaa-44fe-b624-15ff6a2b3b33",
      "metadata": {
        "id": "c9fbd42b-6eaa-44fe-b624-15ff6a2b3b33"
      },
      "source": [
        "We have access to the traffic data in Poland until 2023, but there is no traffic emission record in Poland for 2023. So, we decide to predict the emission from road traffic in 2023."
      ]
    },
    {
      "cell_type": "code",
      "execution_count": 27,
      "id": "15466ab7-f4fc-46c2-97f8-b8caca3433ce",
      "metadata": {
        "id": "15466ab7-f4fc-46c2-97f8-b8caca3433ce"
      },
      "outputs": [],
      "source": [
        "# Prepare the prediction data\n",
        "x_pred = transactions_quarterly[['total_transactions']].merge(vehicles_quarterly[['total_vehicles']],\n",
        "                                                         left_index=True,\n",
        "                                                         right_index=True\n",
        "                                                        ).iloc[16:,:]"
      ]
    },
    {
      "cell_type": "code",
      "execution_count": 28,
      "id": "8a34d843-51ab-4926-847d-dd70ecbb8a42",
      "metadata": {
        "id": "8a34d843-51ab-4926-847d-dd70ecbb8a42"
      },
      "outputs": [],
      "source": [
        "# Make predictions\n",
        "y_pred = LinearRegressor.predict(x_pred)"
      ]
    },
    {
      "cell_type": "code",
      "execution_count": 29,
      "id": "5d1560f1-72e1-48a7-919f-47a2c741ee72",
      "metadata": {
        "id": "5d1560f1-72e1-48a7-919f-47a2c741ee72",
        "outputId": "4ba0a2c4-c62e-46d5-efd3-de433f8f6629",
        "colab": {
          "base_uri": "https://localhost:8080/",
          "height": 174
        }
      },
      "outputs": [
        {
          "output_type": "execute_result",
          "data": {
            "text/plain": [
              "          n2o           nox        ch4       pm2.5\n",
              "0  281.567660  12032.891475  71.627795  508.001435\n",
              "1  281.170219  11927.523508  71.068873  505.445227\n",
              "2  282.229452  11531.493777  69.159096  498.864556\n",
              "3  281.036044  11840.270227  70.620621  503.559602"
            ],
            "text/html": [
              "\n",
              "  <div id=\"df-b2411d50-0605-46c6-80ca-7c5f4d1861b8\" class=\"colab-df-container\">\n",
              "    <div>\n",
              "<style scoped>\n",
              "    .dataframe tbody tr th:only-of-type {\n",
              "        vertical-align: middle;\n",
              "    }\n",
              "\n",
              "    .dataframe tbody tr th {\n",
              "        vertical-align: top;\n",
              "    }\n",
              "\n",
              "    .dataframe thead th {\n",
              "        text-align: right;\n",
              "    }\n",
              "</style>\n",
              "<table border=\"1\" class=\"dataframe\">\n",
              "  <thead>\n",
              "    <tr style=\"text-align: right;\">\n",
              "      <th></th>\n",
              "      <th>n2o</th>\n",
              "      <th>nox</th>\n",
              "      <th>ch4</th>\n",
              "      <th>pm2.5</th>\n",
              "    </tr>\n",
              "  </thead>\n",
              "  <tbody>\n",
              "    <tr>\n",
              "      <th>0</th>\n",
              "      <td>281.567660</td>\n",
              "      <td>12032.891475</td>\n",
              "      <td>71.627795</td>\n",
              "      <td>508.001435</td>\n",
              "    </tr>\n",
              "    <tr>\n",
              "      <th>1</th>\n",
              "      <td>281.170219</td>\n",
              "      <td>11927.523508</td>\n",
              "      <td>71.068873</td>\n",
              "      <td>505.445227</td>\n",
              "    </tr>\n",
              "    <tr>\n",
              "      <th>2</th>\n",
              "      <td>282.229452</td>\n",
              "      <td>11531.493777</td>\n",
              "      <td>69.159096</td>\n",
              "      <td>498.864556</td>\n",
              "    </tr>\n",
              "    <tr>\n",
              "      <th>3</th>\n",
              "      <td>281.036044</td>\n",
              "      <td>11840.270227</td>\n",
              "      <td>70.620621</td>\n",
              "      <td>503.559602</td>\n",
              "    </tr>\n",
              "  </tbody>\n",
              "</table>\n",
              "</div>\n",
              "    <div class=\"colab-df-buttons\">\n",
              "\n",
              "  <div class=\"colab-df-container\">\n",
              "    <button class=\"colab-df-convert\" onclick=\"convertToInteractive('df-b2411d50-0605-46c6-80ca-7c5f4d1861b8')\"\n",
              "            title=\"Convert this dataframe to an interactive table.\"\n",
              "            style=\"display:none;\">\n",
              "\n",
              "  <svg xmlns=\"http://www.w3.org/2000/svg\" height=\"24px\" viewBox=\"0 -960 960 960\">\n",
              "    <path d=\"M120-120v-720h720v720H120Zm60-500h600v-160H180v160Zm220 220h160v-160H400v160Zm0 220h160v-160H400v160ZM180-400h160v-160H180v160Zm440 0h160v-160H620v160ZM180-180h160v-160H180v160Zm440 0h160v-160H620v160Z\"/>\n",
              "  </svg>\n",
              "    </button>\n",
              "\n",
              "  <style>\n",
              "    .colab-df-container {\n",
              "      display:flex;\n",
              "      gap: 12px;\n",
              "    }\n",
              "\n",
              "    .colab-df-convert {\n",
              "      background-color: #E8F0FE;\n",
              "      border: none;\n",
              "      border-radius: 50%;\n",
              "      cursor: pointer;\n",
              "      display: none;\n",
              "      fill: #1967D2;\n",
              "      height: 32px;\n",
              "      padding: 0 0 0 0;\n",
              "      width: 32px;\n",
              "    }\n",
              "\n",
              "    .colab-df-convert:hover {\n",
              "      background-color: #E2EBFA;\n",
              "      box-shadow: 0px 1px 2px rgba(60, 64, 67, 0.3), 0px 1px 3px 1px rgba(60, 64, 67, 0.15);\n",
              "      fill: #174EA6;\n",
              "    }\n",
              "\n",
              "    .colab-df-buttons div {\n",
              "      margin-bottom: 4px;\n",
              "    }\n",
              "\n",
              "    [theme=dark] .colab-df-convert {\n",
              "      background-color: #3B4455;\n",
              "      fill: #D2E3FC;\n",
              "    }\n",
              "\n",
              "    [theme=dark] .colab-df-convert:hover {\n",
              "      background-color: #434B5C;\n",
              "      box-shadow: 0px 1px 3px 1px rgba(0, 0, 0, 0.15);\n",
              "      filter: drop-shadow(0px 1px 2px rgba(0, 0, 0, 0.3));\n",
              "      fill: #FFFFFF;\n",
              "    }\n",
              "  </style>\n",
              "\n",
              "    <script>\n",
              "      const buttonEl =\n",
              "        document.querySelector('#df-b2411d50-0605-46c6-80ca-7c5f4d1861b8 button.colab-df-convert');\n",
              "      buttonEl.style.display =\n",
              "        google.colab.kernel.accessAllowed ? 'block' : 'none';\n",
              "\n",
              "      async function convertToInteractive(key) {\n",
              "        const element = document.querySelector('#df-b2411d50-0605-46c6-80ca-7c5f4d1861b8');\n",
              "        const dataTable =\n",
              "          await google.colab.kernel.invokeFunction('convertToInteractive',\n",
              "                                                    [key], {});\n",
              "        if (!dataTable) return;\n",
              "\n",
              "        const docLinkHtml = 'Like what you see? Visit the ' +\n",
              "          '<a target=\"_blank\" href=https://colab.research.google.com/notebooks/data_table.ipynb>data table notebook</a>'\n",
              "          + ' to learn more about interactive tables.';\n",
              "        element.innerHTML = '';\n",
              "        dataTable['output_type'] = 'display_data';\n",
              "        await google.colab.output.renderOutput(dataTable, element);\n",
              "        const docLink = document.createElement('div');\n",
              "        docLink.innerHTML = docLinkHtml;\n",
              "        element.appendChild(docLink);\n",
              "      }\n",
              "    </script>\n",
              "  </div>\n",
              "\n",
              "\n",
              "<div id=\"df-8e4c779d-9490-45ae-bc06-09ff5e4eb741\">\n",
              "  <button class=\"colab-df-quickchart\" onclick=\"quickchart('df-8e4c779d-9490-45ae-bc06-09ff5e4eb741')\"\n",
              "            title=\"Suggest charts\"\n",
              "            style=\"display:none;\">\n",
              "\n",
              "<svg xmlns=\"http://www.w3.org/2000/svg\" height=\"24px\"viewBox=\"0 0 24 24\"\n",
              "     width=\"24px\">\n",
              "    <g>\n",
              "        <path d=\"M19 3H5c-1.1 0-2 .9-2 2v14c0 1.1.9 2 2 2h14c1.1 0 2-.9 2-2V5c0-1.1-.9-2-2-2zM9 17H7v-7h2v7zm4 0h-2V7h2v10zm4 0h-2v-4h2v4z\"/>\n",
              "    </g>\n",
              "</svg>\n",
              "  </button>\n",
              "\n",
              "<style>\n",
              "  .colab-df-quickchart {\n",
              "      --bg-color: #E8F0FE;\n",
              "      --fill-color: #1967D2;\n",
              "      --hover-bg-color: #E2EBFA;\n",
              "      --hover-fill-color: #174EA6;\n",
              "      --disabled-fill-color: #AAA;\n",
              "      --disabled-bg-color: #DDD;\n",
              "  }\n",
              "\n",
              "  [theme=dark] .colab-df-quickchart {\n",
              "      --bg-color: #3B4455;\n",
              "      --fill-color: #D2E3FC;\n",
              "      --hover-bg-color: #434B5C;\n",
              "      --hover-fill-color: #FFFFFF;\n",
              "      --disabled-bg-color: #3B4455;\n",
              "      --disabled-fill-color: #666;\n",
              "  }\n",
              "\n",
              "  .colab-df-quickchart {\n",
              "    background-color: var(--bg-color);\n",
              "    border: none;\n",
              "    border-radius: 50%;\n",
              "    cursor: pointer;\n",
              "    display: none;\n",
              "    fill: var(--fill-color);\n",
              "    height: 32px;\n",
              "    padding: 0;\n",
              "    width: 32px;\n",
              "  }\n",
              "\n",
              "  .colab-df-quickchart:hover {\n",
              "    background-color: var(--hover-bg-color);\n",
              "    box-shadow: 0 1px 2px rgba(60, 64, 67, 0.3), 0 1px 3px 1px rgba(60, 64, 67, 0.15);\n",
              "    fill: var(--button-hover-fill-color);\n",
              "  }\n",
              "\n",
              "  .colab-df-quickchart-complete:disabled,\n",
              "  .colab-df-quickchart-complete:disabled:hover {\n",
              "    background-color: var(--disabled-bg-color);\n",
              "    fill: var(--disabled-fill-color);\n",
              "    box-shadow: none;\n",
              "  }\n",
              "\n",
              "  .colab-df-spinner {\n",
              "    border: 2px solid var(--fill-color);\n",
              "    border-color: transparent;\n",
              "    border-bottom-color: var(--fill-color);\n",
              "    animation:\n",
              "      spin 1s steps(1) infinite;\n",
              "  }\n",
              "\n",
              "  @keyframes spin {\n",
              "    0% {\n",
              "      border-color: transparent;\n",
              "      border-bottom-color: var(--fill-color);\n",
              "      border-left-color: var(--fill-color);\n",
              "    }\n",
              "    20% {\n",
              "      border-color: transparent;\n",
              "      border-left-color: var(--fill-color);\n",
              "      border-top-color: var(--fill-color);\n",
              "    }\n",
              "    30% {\n",
              "      border-color: transparent;\n",
              "      border-left-color: var(--fill-color);\n",
              "      border-top-color: var(--fill-color);\n",
              "      border-right-color: var(--fill-color);\n",
              "    }\n",
              "    40% {\n",
              "      border-color: transparent;\n",
              "      border-right-color: var(--fill-color);\n",
              "      border-top-color: var(--fill-color);\n",
              "    }\n",
              "    60% {\n",
              "      border-color: transparent;\n",
              "      border-right-color: var(--fill-color);\n",
              "    }\n",
              "    80% {\n",
              "      border-color: transparent;\n",
              "      border-right-color: var(--fill-color);\n",
              "      border-bottom-color: var(--fill-color);\n",
              "    }\n",
              "    90% {\n",
              "      border-color: transparent;\n",
              "      border-bottom-color: var(--fill-color);\n",
              "    }\n",
              "  }\n",
              "</style>\n",
              "\n",
              "  <script>\n",
              "    async function quickchart(key) {\n",
              "      const quickchartButtonEl =\n",
              "        document.querySelector('#' + key + ' button');\n",
              "      quickchartButtonEl.disabled = true;  // To prevent multiple clicks.\n",
              "      quickchartButtonEl.classList.add('colab-df-spinner');\n",
              "      try {\n",
              "        const charts = await google.colab.kernel.invokeFunction(\n",
              "            'suggestCharts', [key], {});\n",
              "      } catch (error) {\n",
              "        console.error('Error during call to suggestCharts:', error);\n",
              "      }\n",
              "      quickchartButtonEl.classList.remove('colab-df-spinner');\n",
              "      quickchartButtonEl.classList.add('colab-df-quickchart-complete');\n",
              "    }\n",
              "    (() => {\n",
              "      let quickchartButtonEl =\n",
              "        document.querySelector('#df-8e4c779d-9490-45ae-bc06-09ff5e4eb741 button');\n",
              "      quickchartButtonEl.style.display =\n",
              "        google.colab.kernel.accessAllowed ? 'block' : 'none';\n",
              "    })();\n",
              "  </script>\n",
              "</div>\n",
              "    </div>\n",
              "  </div>\n"
            ]
          },
          "metadata": {},
          "execution_count": 29
        }
      ],
      "source": [
        "# Convert numpy array into dataframe column\n",
        "y_pred = pd.DataFrame(y_pred, columns=emission.columns)\n",
        "\n",
        "y_pred"
      ]
    },
    {
      "cell_type": "code",
      "execution_count": 30,
      "id": "c19bf752-7dc8-4d8d-9265-706e764f0c30",
      "metadata": {
        "id": "c19bf752-7dc8-4d8d-9265-706e764f0c30"
      },
      "outputs": [],
      "source": [
        "# Add the predicted emission to the previous emission data\n",
        "for i in range(4):\n",
        "    emission_5years = pd.concat([emission, y_pred], ignore_index=True)"
      ]
    },
    {
      "cell_type": "code",
      "execution_count": 31,
      "id": "801f644a-eb15-44de-8207-082fa88b26fe",
      "metadata": {
        "id": "801f644a-eb15-44de-8207-082fa88b26fe"
      },
      "outputs": [],
      "source": [
        "# Add year and quarter columns\n",
        "emission_5years = pd.merge(transactions_quarterly[['Year','Quarter']], emission_5years, left_index=True, right_index=True)\n",
        "\n",
        "emission_5years['Time'] = emission_5years['Year'].astype(str) + '-' + emission_5years['Quarter'].astype(str)"
      ]
    },
    {
      "cell_type": "code",
      "execution_count": 34,
      "id": "5afc720e-8be6-4ad2-8827-008028b57178",
      "metadata": {
        "id": "5afc720e-8be6-4ad2-8827-008028b57178",
        "outputId": "906bca76-ecf8-485d-f59d-ea8700826046",
        "colab": {
          "base_uri": "https://localhost:8080/",
          "height": 895
        }
      },
      "outputs": [
        {
          "output_type": "display_data",
          "data": {
            "text/plain": [
              "<Figure size 1300x1000 with 4 Axes>"
            ],
            "image/png": "[encoded data removed]"
          },
          "metadata": {}
        }
      ],
      "source": [
        "# Create a 4*1 grid of subplots\n",
        "fig, axs = plt.subplots(4, 1, figsize=(13, 10))\n",
        "\n",
        "# Set data with subplots and plot\n",
        "axs[0].plot(emission_5years['Time'], emission_5years['n2o'])\n",
        "axs[1].plot(emission_5years['Time'], emission_5years['nox'])\n",
        "axs[2].plot(emission_5years['Time'], emission_5years['ch4'])\n",
        "axs[3].plot(emission_5years['Time'], emission_5years['pm2.5'])\n",
        "\n",
        "# Set the title to subplots\n",
        "axs[0].set_title(\"N2O\",fontsize=15)\n",
        "axs[1].set_title(\"NOx\",fontsize=15)\n",
        "axs[2].set_title(\"CH4\",fontsize=15)\n",
        "axs[3].set_title(\"PM2.5\",fontsize=15)\n",
        "\n",
        "\n",
        "# Set a main title for all the subplots\n",
        "fig.suptitle(' Emission from Road Transport (2019-2023) ', fontsize=20)\n",
        "\n",
        "# Add labels for axes\n",
        "for ax in axs:\n",
        "    ax.set_xlabel('Time (quarter)',fontsize=12)\n",
        "    ax.set_ylabel('Emission (ton)',fontsize=12)\n",
        "\n",
        "# Set spacing\n",
        "fig.tight_layout()\n",
        "plt.show()"
      ]
    },
    {
      "cell_type": "code",
      "source": [],
      "metadata": {
        "id": "JElM8eyFDCOQ"
      },
      "id": "JElM8eyFDCOQ",
      "execution_count": null,
      "outputs": []
    }
  ],
  "metadata": {
    "kernelspec": {
      "display_name": "Python 3 (ipykernel)",
      "language": "python",
      "name": "python3"
    },
    "language_info": {
      "codemirror_mode": {
        "name": "ipython",
        "version": 3
      },
      "file_extension": ".py",
      "mimetype": "text/x-python",
      "name": "python",
      "nbconvert_exporter": "python",
      "pygments_lexer": "ipython3",
      "version": "3.11.7"
    },
    "colab": {
      "provenance": []
    }
  },
  "nbformat": 4,
  "nbformat_minor": 5
}