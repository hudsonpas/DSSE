{
 "cells": [
  {
   "cell_type": "code",
   "execution_count": 1,
   "id": "b7688f00",
   "metadata": {},
   "outputs": [],
   "source": [
    "import pandas  as pd\n",
    "import numpy   as np\n",
    "import xgboost as xgb\n",
    "from sklearn.model_selection import train_test_split\n",
    "from sklearn.preprocessing import StandardScaler\n",
    "from sklearn.model_selection import GridSearchCV\n",
    "from sklearn.model_selection import StratifiedShuffleSplit\n",
    "from sklearn.model_selection import cross_val_score, KFold\n",
    "from sklearn.metrics import mean_squared_error"
   ]
  },
  {
   "cell_type": "code",
   "execution_count": 102,
   "id": "aeebb30b",
   "metadata": {},
   "outputs": [
    {
     "name": "stderr",
     "output_type": "stream",
     "text": [
      "C:\\Users\\hudso\\AppData\\Local\\Temp\\ipykernel_6960\\2809092414.py:1: DtypeWarning: Columns (7,10,16) have mixed types. Specify dtype option on import or set low_memory=False.\n",
      "  df = pd.read_csv(\"F1_4_Detailed releases at facility level with E-PRTR Sector and Annex I Activity detail into Air.csv\")\n"
     ]
    }
   ],
   "source": [
    "df = pd.read_csv(\"F1_4_Detailed releases at facility level with E-PRTR Sector and Annex I Activity detail into Air.csv\")\n"
   ]
  },
  {
   "cell_type": "code",
   "execution_count": 103,
   "id": "c2ef80ba",
   "metadata": {},
   "outputs": [
    {
     "data": {
      "text/plain": [
       "Index(['countryName', 'EPRTRSectorCode', 'eprtrSectorName',\n",
       "       'EPRTRAnnexIMainActivityCode', 'EPRTRAnnexIMainActivityLabel',\n",
       "       'FacilityInspireID', 'facilityName',\n",
       "       'facilityNameConfidentialityReason', 'Longitude', 'Latitude',\n",
       "       'addressConfidentialityReason', 'City', 'targetRelease', 'pollutant',\n",
       "       'emissions', 'reportingYear', 'releasesConfidentialityReason'],\n",
       "      dtype='object')"
      ]
     },
     "execution_count": 103,
     "metadata": {},
     "output_type": "execute_result"
    }
   ],
   "source": [
    "df.columns"
   ]
  },
  {
   "cell_type": "code",
   "execution_count": 105,
   "id": "3e18a161",
   "metadata": {},
   "outputs": [
    {
     "data": {
      "text/plain": [
       "array(['1,1,2,2-tetrachloroethane (TETRACHLOROETHANE-1,1,2,2)',\n",
       "       '1,2-dichloroethane (DCE-1,2)', 'Aldrin', 'Ammonia (NH3)',\n",
       "       'Anthracene', 'Arsenic and compounds (as As)', 'Benzene',\n",
       "       'CONFIDENTIAL', 'Cadmium and compounds (as Cd)',\n",
       "       'Carbon dioxide (CO2)', 'Carbon monoxide (CO)',\n",
       "       'Chlorine and inorganic compounds (as HCl)',\n",
       "       'Chlorofluorocarbons (CFCs)', 'Chromium and compounds (as Cr)',\n",
       "       'Copper and compounds (as Cu)',\n",
       "       'Di-(2-ethyl hexyl) phthalate (DEHP)', 'Dichloromethane (DCM)',\n",
       "       'Ethylene oxide', 'Fluorine and inorganic compounds (as HF)',\n",
       "       'Halons', 'Hydro-fluorocarbons (HFCS)',\n",
       "       'Hydrochlorofluorocarbons (HCFCs)', 'Hydrogen cyanide (HCN)',\n",
       "       'Lead and compounds (as Pb)', 'Mercury and compounds (as Hg)',\n",
       "       'Methane (CH4)', 'Naphthalene', 'Nickel and compounds (as Ni)',\n",
       "       'Nitrogen oxides (NOX)', 'Nitrous oxide (N2O)',\n",
       "       'Non-methane volatile organic compounds (NMVOC)',\n",
       "       'PCDD + PCDF (dioxins + furans) (as Teq)',\n",
       "       'Particulate matter (PM10)', 'Perfluorocarbons (PFCs)',\n",
       "       'Polychlorinated biphenyls (PCBs)',\n",
       "       'Polycyclic aromatic hydrocarbons (PAHs)', 'Sulphur oxides (SOX)',\n",
       "       'Tetrachloroethylene', 'Tetrachloromethane (TCM)',\n",
       "       'Total organic carbon(as total C or COD/3) (TOC)',\n",
       "       'Trichloroethylene (TRI)', 'Trichloromethane', 'Vinyl chloride',\n",
       "       'Zinc and compounds (as Zn)'], dtype=object)"
      ]
     },
     "execution_count": 105,
     "metadata": {},
     "output_type": "execute_result"
    }
   ],
   "source": [
    "df2 = df[df[\"countryName\"]==\"Poland\"]\n",
    "np.unique(df2[\"pollutant\"])"
   ]
  },
  {
   "cell_type": "code",
   "execution_count": null,
   "id": "f032b931",
   "metadata": {},
   "outputs": [],
   "source": []
  },
  {
   "cell_type": "code",
   "execution_count": null,
   "id": "3bc3d7e5",
   "metadata": {},
   "outputs": [],
   "source": []
  },
  {
   "cell_type": "code",
   "execution_count": 53,
   "id": "ab7a76c6",
   "metadata": {},
   "outputs": [],
   "source": [
    "df = pd.read_csv(\"provincies_dataframe4.csv\")"
   ]
  },
  {
   "cell_type": "code",
   "execution_count": 54,
   "id": "69fae999",
   "metadata": {},
   "outputs": [
    {
     "data": {
      "text/html": [
       "<div>\n",
       "<style scoped>\n",
       "    .dataframe tbody tr th:only-of-type {\n",
       "        vertical-align: middle;\n",
       "    }\n",
       "\n",
       "    .dataframe tbody tr th {\n",
       "        vertical-align: top;\n",
       "    }\n",
       "\n",
       "    .dataframe thead th {\n",
       "        text-align: right;\n",
       "    }\n",
       "</style>\n",
       "<table border=\"1\" class=\"dataframe\">\n",
       "  <thead>\n",
       "    <tr style=\"text-align: right;\">\n",
       "      <th></th>\n",
       "      <th>JPT_POWIER</th>\n",
       "      <th>JPT_KOD_JE</th>\n",
       "      <th>JPT_NAZWA_</th>\n",
       "      <th>SHAPE_LENG</th>\n",
       "      <th>SHAPE_AREA</th>\n",
       "      <th>REGON</th>\n",
       "      <th>EMISS_TRAF</th>\n",
       "      <th>EMIS_SEAPO</th>\n",
       "      <th>EMIS_LCP</th>\n",
       "      <th>EMIS_CHEMI</th>\n",
       "      <th>EMIS_ENERG</th>\n",
       "      <th>EMIS_LIVES</th>\n",
       "      <th>EMIS_MINER</th>\n",
       "      <th>EMIS_PAPER</th>\n",
       "      <th>EMIS_METAL</th>\n",
       "      <th>EMIS_WASTE</th>\n",
       "      <th>PM10</th>\n",
       "      <th>TOTAL_FACT</th>\n",
       "    </tr>\n",
       "  </thead>\n",
       "  <tbody>\n",
       "    <tr>\n",
       "      <th>0</th>\n",
       "      <td>2289315</td>\n",
       "      <td>32</td>\n",
       "      <td>zachodniopomorskie</td>\n",
       "      <td>12.132354</td>\n",
       "      <td>3.107943</td>\n",
       "      <td>81168387600000</td>\n",
       "      <td>69.80</td>\n",
       "      <td>91.33</td>\n",
       "      <td>445.229000</td>\n",
       "      <td>0.0</td>\n",
       "      <td>501.5</td>\n",
       "      <td>0.0</td>\n",
       "      <td>0.0</td>\n",
       "      <td>107.0</td>\n",
       "      <td>0.0</td>\n",
       "      <td>0.0</td>\n",
       "      <td>19.200000</td>\n",
       "      <td>769.63</td>\n",
       "    </tr>\n",
       "    <tr>\n",
       "      <th>1</th>\n",
       "      <td>1398751</td>\n",
       "      <td>8</td>\n",
       "      <td>lubuskie</td>\n",
       "      <td>11.091431</td>\n",
       "      <td>1.838502</td>\n",
       "      <td>97789593100000</td>\n",
       "      <td>53.04</td>\n",
       "      <td>0.00</td>\n",
       "      <td>68.889500</td>\n",
       "      <td>54.2</td>\n",
       "      <td>77.8</td>\n",
       "      <td>0.0</td>\n",
       "      <td>116.0</td>\n",
       "      <td>119.0</td>\n",
       "      <td>0.0</td>\n",
       "      <td>0.0</td>\n",
       "      <td>19.971429</td>\n",
       "      <td>420.04</td>\n",
       "    </tr>\n",
       "    <tr>\n",
       "      <th>2</th>\n",
       "      <td>1994777</td>\n",
       "      <td>2</td>\n",
       "      <td>dolnośląskie</td>\n",
       "      <td>13.846094</td>\n",
       "      <td>2.559169</td>\n",
       "      <td>93193464400000</td>\n",
       "      <td>130.86</td>\n",
       "      <td>0.00</td>\n",
       "      <td>466.001000</td>\n",
       "      <td>0.0</td>\n",
       "      <td>365.0</td>\n",
       "      <td>0.0</td>\n",
       "      <td>0.0</td>\n",
       "      <td>0.0</td>\n",
       "      <td>0.0</td>\n",
       "      <td>0.0</td>\n",
       "      <td>25.000000</td>\n",
       "      <td>495.86</td>\n",
       "    </tr>\n",
       "    <tr>\n",
       "      <th>3</th>\n",
       "      <td>2982700</td>\n",
       "      <td>30</td>\n",
       "      <td>wielkopolskie</td>\n",
       "      <td>18.409792</td>\n",
       "      <td>3.932200</td>\n",
       "      <td>63125781600000</td>\n",
       "      <td>263.66</td>\n",
       "      <td>0.00</td>\n",
       "      <td>808.854000</td>\n",
       "      <td>0.0</td>\n",
       "      <td>62.6</td>\n",
       "      <td>132.0</td>\n",
       "      <td>140.0</td>\n",
       "      <td>55.0</td>\n",
       "      <td>0.0</td>\n",
       "      <td>0.0</td>\n",
       "      <td>25.555556</td>\n",
       "      <td>653.26</td>\n",
       "    </tr>\n",
       "    <tr>\n",
       "      <th>4</th>\n",
       "      <td>1831001</td>\n",
       "      <td>22</td>\n",
       "      <td>pomorskie</td>\n",
       "      <td>11.708411</td>\n",
       "      <td>2.689451</td>\n",
       "      <td>19167483600000</td>\n",
       "      <td>114.78</td>\n",
       "      <td>221.36</td>\n",
       "      <td>265.783004</td>\n",
       "      <td>0.0</td>\n",
       "      <td>58.7</td>\n",
       "      <td>0.0</td>\n",
       "      <td>0.0</td>\n",
       "      <td>0.0</td>\n",
       "      <td>0.0</td>\n",
       "      <td>54.0</td>\n",
       "      <td>20.009091</td>\n",
       "      <td>448.84</td>\n",
       "    </tr>\n",
       "  </tbody>\n",
       "</table>\n",
       "</div>"
      ],
      "text/plain": [
       "   JPT_POWIER  JPT_KOD_JE          JPT_NAZWA_  SHAPE_LENG  SHAPE_AREA  \\\n",
       "0     2289315          32  zachodniopomorskie   12.132354    3.107943   \n",
       "1     1398751           8            lubuskie   11.091431    1.838502   \n",
       "2     1994777           2        dolnośląskie   13.846094    2.559169   \n",
       "3     2982700          30       wielkopolskie   18.409792    3.932200   \n",
       "4     1831001          22           pomorskie   11.708411    2.689451   \n",
       "\n",
       "            REGON  EMISS_TRAF  EMIS_SEAPO    EMIS_LCP  EMIS_CHEMI  EMIS_ENERG  \\\n",
       "0  81168387600000       69.80       91.33  445.229000         0.0       501.5   \n",
       "1  97789593100000       53.04        0.00   68.889500        54.2        77.8   \n",
       "2  93193464400000      130.86        0.00  466.001000         0.0       365.0   \n",
       "3  63125781600000      263.66        0.00  808.854000         0.0        62.6   \n",
       "4  19167483600000      114.78      221.36  265.783004         0.0        58.7   \n",
       "\n",
       "   EMIS_LIVES  EMIS_MINER  EMIS_PAPER  EMIS_METAL  EMIS_WASTE       PM10  \\\n",
       "0         0.0         0.0       107.0         0.0         0.0  19.200000   \n",
       "1         0.0       116.0       119.0         0.0         0.0  19.971429   \n",
       "2         0.0         0.0         0.0         0.0         0.0  25.000000   \n",
       "3       132.0       140.0        55.0         0.0         0.0  25.555556   \n",
       "4         0.0         0.0         0.0         0.0        54.0  20.009091   \n",
       "\n",
       "   TOTAL_FACT  \n",
       "0      769.63  \n",
       "1      420.04  \n",
       "2      495.86  \n",
       "3      653.26  \n",
       "4      448.84  "
      ]
     },
     "execution_count": 54,
     "metadata": {},
     "output_type": "execute_result"
    }
   ],
   "source": [
    "df.head()"
   ]
  },
  {
   "cell_type": "code",
   "execution_count": 55,
   "id": "ab653cc5",
   "metadata": {},
   "outputs": [
    {
     "data": {
      "text/plain": [
       "Index(['JPT_POWIER', 'JPT_KOD_JE', 'JPT_NAZWA_', 'SHAPE_LENG', 'SHAPE_AREA',\n",
       "       'REGON', 'EMISS_TRAF', 'EMIS_SEAPO', 'EMIS_LCP', 'EMIS_CHEMI',\n",
       "       'EMIS_ENERG', 'EMIS_LIVES', 'EMIS_MINER', 'EMIS_PAPER', 'EMIS_METAL',\n",
       "       'EMIS_WASTE', 'PM10', 'TOTAL_FACT'],\n",
       "      dtype='object')"
      ]
     },
     "execution_count": 55,
     "metadata": {},
     "output_type": "execute_result"
    }
   ],
   "source": [
    "df.columns"
   ]
  },
  {
   "cell_type": "code",
   "execution_count": 56,
   "id": "696d818e",
   "metadata": {},
   "outputs": [
    {
     "data": {
      "text/html": [
       "<div>\n",
       "<style scoped>\n",
       "    .dataframe tbody tr th:only-of-type {\n",
       "        vertical-align: middle;\n",
       "    }\n",
       "\n",
       "    .dataframe tbody tr th {\n",
       "        vertical-align: top;\n",
       "    }\n",
       "\n",
       "    .dataframe thead th {\n",
       "        text-align: right;\n",
       "    }\n",
       "</style>\n",
       "<table border=\"1\" class=\"dataframe\">\n",
       "  <thead>\n",
       "    <tr style=\"text-align: right;\">\n",
       "      <th></th>\n",
       "      <th>PM10</th>\n",
       "      <th>EMISS_TRAF</th>\n",
       "      <th>EMIS_SEAPO</th>\n",
       "      <th>EMIS_CHEMI</th>\n",
       "      <th>EMIS_ENERG</th>\n",
       "      <th>EMIS_LIVES</th>\n",
       "      <th>EMIS_MINER</th>\n",
       "      <th>EMIS_PAPER</th>\n",
       "      <th>EMIS_METAL</th>\n",
       "      <th>EMIS_WASTE</th>\n",
       "    </tr>\n",
       "  </thead>\n",
       "  <tbody>\n",
       "    <tr>\n",
       "      <th>0</th>\n",
       "      <td>19.200000</td>\n",
       "      <td>69.80</td>\n",
       "      <td>91.33</td>\n",
       "      <td>0.0</td>\n",
       "      <td>501.5</td>\n",
       "      <td>0.0</td>\n",
       "      <td>0.0</td>\n",
       "      <td>107.0</td>\n",
       "      <td>0.0</td>\n",
       "      <td>0.0</td>\n",
       "    </tr>\n",
       "    <tr>\n",
       "      <th>1</th>\n",
       "      <td>19.971429</td>\n",
       "      <td>53.04</td>\n",
       "      <td>0.00</td>\n",
       "      <td>54.2</td>\n",
       "      <td>77.8</td>\n",
       "      <td>0.0</td>\n",
       "      <td>116.0</td>\n",
       "      <td>119.0</td>\n",
       "      <td>0.0</td>\n",
       "      <td>0.0</td>\n",
       "    </tr>\n",
       "    <tr>\n",
       "      <th>2</th>\n",
       "      <td>25.000000</td>\n",
       "      <td>130.86</td>\n",
       "      <td>0.00</td>\n",
       "      <td>0.0</td>\n",
       "      <td>365.0</td>\n",
       "      <td>0.0</td>\n",
       "      <td>0.0</td>\n",
       "      <td>0.0</td>\n",
       "      <td>0.0</td>\n",
       "      <td>0.0</td>\n",
       "    </tr>\n",
       "    <tr>\n",
       "      <th>3</th>\n",
       "      <td>25.555556</td>\n",
       "      <td>263.66</td>\n",
       "      <td>0.00</td>\n",
       "      <td>0.0</td>\n",
       "      <td>62.6</td>\n",
       "      <td>132.0</td>\n",
       "      <td>140.0</td>\n",
       "      <td>55.0</td>\n",
       "      <td>0.0</td>\n",
       "      <td>0.0</td>\n",
       "    </tr>\n",
       "    <tr>\n",
       "      <th>4</th>\n",
       "      <td>20.009091</td>\n",
       "      <td>114.78</td>\n",
       "      <td>221.36</td>\n",
       "      <td>0.0</td>\n",
       "      <td>58.7</td>\n",
       "      <td>0.0</td>\n",
       "      <td>0.0</td>\n",
       "      <td>0.0</td>\n",
       "      <td>0.0</td>\n",
       "      <td>54.0</td>\n",
       "    </tr>\n",
       "  </tbody>\n",
       "</table>\n",
       "</div>"
      ],
      "text/plain": [
       "        PM10  EMISS_TRAF  EMIS_SEAPO  EMIS_CHEMI  EMIS_ENERG  EMIS_LIVES  \\\n",
       "0  19.200000       69.80       91.33         0.0       501.5         0.0   \n",
       "1  19.971429       53.04        0.00        54.2        77.8         0.0   \n",
       "2  25.000000      130.86        0.00         0.0       365.0         0.0   \n",
       "3  25.555556      263.66        0.00         0.0        62.6       132.0   \n",
       "4  20.009091      114.78      221.36         0.0        58.7         0.0   \n",
       "\n",
       "   EMIS_MINER  EMIS_PAPER  EMIS_METAL  EMIS_WASTE  \n",
       "0         0.0       107.0         0.0         0.0  \n",
       "1       116.0       119.0         0.0         0.0  \n",
       "2         0.0         0.0         0.0         0.0  \n",
       "3       140.0        55.0         0.0         0.0  \n",
       "4         0.0         0.0         0.0        54.0  "
      ]
     },
     "execution_count": 56,
     "metadata": {},
     "output_type": "execute_result"
    }
   ],
   "source": [
    "#df = df[[\"EMISS_TRAF\",\"EMIS_SEAPO\",\"EMIS_LCP\",\"EMIS_CHEMI\",\"EMIS_ENERG\",\"EMIS_LIVES\",\"EMIS_MINER\",\"EMIS_PAPER\",\"EMIS_METAL\",\"EMIS_WASTE\",\"PM10\",\"TOTAL_FACT\"]]\n",
    "df = df[[\"PM10\",\"EMISS_TRAF\",\"EMIS_SEAPO\",\"EMIS_CHEMI\",\"EMIS_ENERG\",\"EMIS_LIVES\",\"EMIS_MINER\",\"EMIS_PAPER\",\"EMIS_METAL\",\"EMIS_WASTE\"]]\n",
    "df.head()"
   ]
  },
  {
   "cell_type": "code",
   "execution_count": 57,
   "id": "7c5f98ad",
   "metadata": {},
   "outputs": [
    {
     "data": {
      "text/plain": [
       "16"
      ]
     },
     "execution_count": 57,
     "metadata": {},
     "output_type": "execute_result"
    }
   ],
   "source": [
    "len(df)"
   ]
  },
  {
   "cell_type": "code",
   "execution_count": 58,
   "id": "f25a01df",
   "metadata": {},
   "outputs": [],
   "source": [
    "df = df.dropna()"
   ]
  },
  {
   "cell_type": "code",
   "execution_count": 59,
   "id": "29dd0008",
   "metadata": {},
   "outputs": [],
   "source": [
    "df = pd.DataFrame(StandardScaler().fit_transform(df))"
   ]
  },
  {
   "cell_type": "code",
   "execution_count": 60,
   "id": "14ce3561",
   "metadata": {},
   "outputs": [
    {
     "data": {
      "text/plain": [
       "0.9446552252441954"
      ]
     },
     "execution_count": 60,
     "metadata": {},
     "output_type": "execute_result"
    }
   ],
   "source": [
    "X = df.iloc[:,1:]\n",
    "y = df.iloc[:,0]\n",
    "\n",
    "X_train, X_test, y_train, y_test = train_test_split(X, y, test_size=0.3, random_state=42) \n",
    "\n",
    "params = {'learning_rate': 0.1,  # 0.01\n",
    "          'n_estimators': 22,    # 100\n",
    "          'max_depth': 7}        # 20\n",
    "\n",
    "model = xgb.XGBRegressor(**params) \n",
    "\n",
    "#model = GridSearchCV(xgbr, params,cv=7, verbose=2, scoring = 'r2', return_train_score=True)\n",
    "model.fit(X_train, y_train)\n",
    "model.score(X_train, y_train)"
   ]
  },
  {
   "cell_type": "code",
   "execution_count": 98,
   "id": "e34632db",
   "metadata": {},
   "outputs": [],
   "source": [
    "feature_names = list([\"Traffic\",\"Seaport\",\"Chemical_industries\",\"Energy_sector\",\"Livestock\",\"Mineral_industry\",\"Paper_and_wood_production\",\"Metal_production\",\"Waste_management\"])"
   ]
  },
  {
   "cell_type": "code",
   "execution_count": 62,
   "id": "7be6c67d",
   "metadata": {},
   "outputs": [
    {
     "name": "stdout",
     "output_type": "stream",
     "text": [
      "Mean cross-validation score: -0.46\n"
     ]
    }
   ],
   "source": [
    "scores = cross_val_score(model, X_train, y_train,cv=2)\n",
    "print(\"Mean cross-validation score: %.2f\" % scores.mean())"
   ]
  },
  {
   "cell_type": "code",
   "execution_count": 63,
   "id": "90cdfd7a",
   "metadata": {},
   "outputs": [
    {
     "name": "stdout",
     "output_type": "stream",
     "text": [
      "K-fold CV average score: -0.47\n"
     ]
    }
   ],
   "source": [
    "kfold = KFold(n_splits=2, shuffle=True)\n",
    "kf_cv_scores = cross_val_score(model, X_train, y_train, cv=kfold )\n",
    "print(\"K-fold CV average score: %.2f\" % kf_cv_scores.mean())"
   ]
  },
  {
   "cell_type": "code",
   "execution_count": 64,
   "id": "4c538bcd",
   "metadata": {},
   "outputs": [
    {
     "name": "stdout",
     "output_type": "stream",
     "text": [
      "MSE: 1.47\n",
      "RMSE: 1.21\n"
     ]
    }
   ],
   "source": [
    "y_pred = model.predict(X_test)\n",
    "mse = mean_squared_error(y_test, y_pred)\n",
    "print(\"MSE: %.2f\" % mse)\n",
    "print(\"RMSE: %.2f\" % (mse**(1/2.0)))"
   ]
  },
  {
   "cell_type": "code",
   "execution_count": 65,
   "id": "3484a69e",
   "metadata": {},
   "outputs": [
    {
     "name": "stdout",
     "output_type": "stream",
     "text": [
      "The best hyperparameters are  {'learning_rate': 0.01, 'max_depth': 4, 'n_estimators': 500}\n"
     ]
    }
   ],
   "source": [
    "#=========================================================================\n",
    "# XGBoost regression: \n",
    "# Parameters: \n",
    "# n_estimators  \"Number of gradient boosted trees. Equivalent to number \n",
    "#                of boosting rounds.\"\n",
    "# learning_rate \"Boosting learning rate (also known as “eta”)\"\n",
    "# max_depth     \"Maximum depth of a tree. Increasing this value will make \n",
    "#                the model more complex and more likely to overfit.\" \n",
    "#=========================================================================\n",
    "regressor=xgb.XGBRegressor(eval_metric='rmsle')\n",
    "\n",
    "#=========================================================================\n",
    "# exhaustively search for the optimal hyperparameters\n",
    "#=========================================================================\n",
    "from sklearn.model_selection import GridSearchCV\n",
    "# set up our search grid\n",
    "param_grid = {\"max_depth\":    [4, 5, 6],\n",
    "              \"n_estimators\": [500, 600, 700],\n",
    "              \"learning_rate\": [0.01, 0.015]}\n",
    "\n",
    "# try out every combination of the above values\n",
    "search = GridSearchCV(regressor, param_grid, cv=5).fit(X_train, y_train)\n",
    "\n",
    "print(\"The best hyperparameters are \",search.best_params_)"
   ]
  },
  {
   "cell_type": "code",
   "execution_count": 66,
   "id": "5cd68007",
   "metadata": {},
   "outputs": [],
   "source": [
    "#X_train.columns = [\"wind_speed\",\"elevation\",\"indust_sum\",\"prop_agric\",\"HubDist\",\"AADTTOTAL\"]\n",
    "#X_train.columns = [\"industry_sum\",\"agriculture_prop\",\"dirty_powerplant\",\"traffic\"]"
   ]
  },
  {
   "cell_type": "code",
   "execution_count": 67,
   "id": "ed61cc0c",
   "metadata": {},
   "outputs": [
    {
     "data": {
      "text/html": [
       "<style>#sk-container-id-4 {color: black;}#sk-container-id-4 pre{padding: 0;}#sk-container-id-4 div.sk-toggleable {background-color: white;}#sk-container-id-4 label.sk-toggleable__label {cursor: pointer;display: block;width: 100%;margin-bottom: 0;padding: 0.3em;box-sizing: border-box;text-align: center;}#sk-container-id-4 label.sk-toggleable__label-arrow:before {content: \"▸\";float: left;margin-right: 0.25em;color: #696969;}#sk-container-id-4 label.sk-toggleable__label-arrow:hover:before {color: black;}#sk-container-id-4 div.sk-estimator:hover label.sk-toggleable__label-arrow:before {color: black;}#sk-container-id-4 div.sk-toggleable__content {max-height: 0;max-width: 0;overflow: hidden;text-align: left;background-color: #f0f8ff;}#sk-container-id-4 div.sk-toggleable__content pre {margin: 0.2em;color: black;border-radius: 0.25em;background-color: #f0f8ff;}#sk-container-id-4 input.sk-toggleable__control:checked~div.sk-toggleable__content {max-height: 200px;max-width: 100%;overflow: auto;}#sk-container-id-4 input.sk-toggleable__control:checked~label.sk-toggleable__label-arrow:before {content: \"▾\";}#sk-container-id-4 div.sk-estimator input.sk-toggleable__control:checked~label.sk-toggleable__label {background-color: #d4ebff;}#sk-container-id-4 div.sk-label input.sk-toggleable__control:checked~label.sk-toggleable__label {background-color: #d4ebff;}#sk-container-id-4 input.sk-hidden--visually {border: 0;clip: rect(1px 1px 1px 1px);clip: rect(1px, 1px, 1px, 1px);height: 1px;margin: -1px;overflow: hidden;padding: 0;position: absolute;width: 1px;}#sk-container-id-4 div.sk-estimator {font-family: monospace;background-color: #f0f8ff;border: 1px dotted black;border-radius: 0.25em;box-sizing: border-box;margin-bottom: 0.5em;}#sk-container-id-4 div.sk-estimator:hover {background-color: #d4ebff;}#sk-container-id-4 div.sk-parallel-item::after {content: \"\";width: 100%;border-bottom: 1px solid gray;flex-grow: 1;}#sk-container-id-4 div.sk-label:hover label.sk-toggleable__label {background-color: #d4ebff;}#sk-container-id-4 div.sk-serial::before {content: \"\";position: absolute;border-left: 1px solid gray;box-sizing: border-box;top: 0;bottom: 0;left: 50%;z-index: 0;}#sk-container-id-4 div.sk-serial {display: flex;flex-direction: column;align-items: center;background-color: white;padding-right: 0.2em;padding-left: 0.2em;position: relative;}#sk-container-id-4 div.sk-item {position: relative;z-index: 1;}#sk-container-id-4 div.sk-parallel {display: flex;align-items: stretch;justify-content: center;background-color: white;position: relative;}#sk-container-id-4 div.sk-item::before, #sk-container-id-4 div.sk-parallel-item::before {content: \"\";position: absolute;border-left: 1px solid gray;box-sizing: border-box;top: 0;bottom: 0;left: 50%;z-index: -1;}#sk-container-id-4 div.sk-parallel-item {display: flex;flex-direction: column;z-index: 1;position: relative;background-color: white;}#sk-container-id-4 div.sk-parallel-item:first-child::after {align-self: flex-end;width: 50%;}#sk-container-id-4 div.sk-parallel-item:last-child::after {align-self: flex-start;width: 50%;}#sk-container-id-4 div.sk-parallel-item:only-child::after {width: 0;}#sk-container-id-4 div.sk-dashed-wrapped {border: 1px dashed gray;margin: 0 0.4em 0.5em 0.4em;box-sizing: border-box;padding-bottom: 0.4em;background-color: white;}#sk-container-id-4 div.sk-label label {font-family: monospace;font-weight: bold;display: inline-block;line-height: 1.2em;}#sk-container-id-4 div.sk-label-container {text-align: center;}#sk-container-id-4 div.sk-container {/* jupyter's `normalize.less` sets `[hidden] { display: none; }` but bootstrap.min.css set `[hidden] { display: none !important; }` so we also need the `!important` here to be able to override the default hidden behavior on the sphinx rendered scikit-learn.org. See: https://github.com/scikit-learn/scikit-learn/issues/21755 */display: inline-block !important;position: relative;}#sk-container-id-4 div.sk-text-repr-fallback {display: none;}</style><div id=\"sk-container-id-4\" class=\"sk-top-container\"><div class=\"sk-text-repr-fallback\"><pre>XGBRegressor(base_score=None, booster=None, callbacks=None,\n",
       "             colsample_bylevel=None, colsample_bynode=None,\n",
       "             colsample_bytree=None, early_stopping_rounds=None,\n",
       "             enable_categorical=False, eval_metric=&#x27;rmsle&#x27;, feature_types=None,\n",
       "             gamma=None, gpu_id=None, grow_policy=None, importance_type=None,\n",
       "             interaction_constraints=None, learning_rate=0.01, max_bin=None,\n",
       "             max_cat_threshold=None, max_cat_to_onehot=None,\n",
       "             max_delta_step=None, max_depth=4, max_leaves=None,\n",
       "             min_child_weight=None, missing=nan, monotone_constraints=None,\n",
       "             n_estimators=500, n_jobs=None, num_parallel_tree=None,\n",
       "             predictor=None, random_state=None, ...)</pre><b>In a Jupyter environment, please rerun this cell to show the HTML representation or trust the notebook. <br />On GitHub, the HTML representation is unable to render, please try loading this page with nbviewer.org.</b></div><div class=\"sk-container\" hidden><div class=\"sk-item\"><div class=\"sk-estimator sk-toggleable\"><input class=\"sk-toggleable__control sk-hidden--visually\" id=\"sk-estimator-id-4\" type=\"checkbox\" checked><label for=\"sk-estimator-id-4\" class=\"sk-toggleable__label sk-toggleable__label-arrow\">XGBRegressor</label><div class=\"sk-toggleable__content\"><pre>XGBRegressor(base_score=None, booster=None, callbacks=None,\n",
       "             colsample_bylevel=None, colsample_bynode=None,\n",
       "             colsample_bytree=None, early_stopping_rounds=None,\n",
       "             enable_categorical=False, eval_metric=&#x27;rmsle&#x27;, feature_types=None,\n",
       "             gamma=None, gpu_id=None, grow_policy=None, importance_type=None,\n",
       "             interaction_constraints=None, learning_rate=0.01, max_bin=None,\n",
       "             max_cat_threshold=None, max_cat_to_onehot=None,\n",
       "             max_delta_step=None, max_depth=4, max_leaves=None,\n",
       "             min_child_weight=None, missing=nan, monotone_constraints=None,\n",
       "             n_estimators=500, n_jobs=None, num_parallel_tree=None,\n",
       "             predictor=None, random_state=None, ...)</pre></div></div></div></div></div>"
      ],
      "text/plain": [
       "XGBRegressor(base_score=None, booster=None, callbacks=None,\n",
       "             colsample_bylevel=None, colsample_bynode=None,\n",
       "             colsample_bytree=None, early_stopping_rounds=None,\n",
       "             enable_categorical=False, eval_metric='rmsle', feature_types=None,\n",
       "             gamma=None, gpu_id=None, grow_policy=None, importance_type=None,\n",
       "             interaction_constraints=None, learning_rate=0.01, max_bin=None,\n",
       "             max_cat_threshold=None, max_cat_to_onehot=None,\n",
       "             max_delta_step=None, max_depth=4, max_leaves=None,\n",
       "             min_child_weight=None, missing=nan, monotone_constraints=None,\n",
       "             n_estimators=500, n_jobs=None, num_parallel_tree=None,\n",
       "             predictor=None, random_state=None, ...)"
      ]
     },
     "execution_count": 67,
     "metadata": {},
     "output_type": "execute_result"
    }
   ],
   "source": [
    "regressor=xgb.XGBRegressor(learning_rate = search.best_params_[\"learning_rate\"],\n",
    "                           n_estimators  = search.best_params_[\"n_estimators\"],\n",
    "                           max_depth     = search.best_params_[\"max_depth\"],\n",
    "                           eval_metric='rmsle')\n",
    "\n",
    "regressor.fit(X_train, y_train)\n",
    "\n",
    "#=========================================================================\n",
    "# To use early_stopping_rounds: \n",
    "# \"Validation metric needs to improve at least once in every \n",
    "# early_stopping_rounds round(s) to continue training.\"\n",
    "#=========================================================================\n",
    "# first perform a test/train split \n",
    "#from sklearn.model_selection import train_test_split\n",
    "\n",
    "#X_train,X_test,y_train,y_test = train_test_split(X_train,y_train, test_size = 0.2)\n",
    "#regressor.fit(X_train, y_train, early_stopping_rounds=6, eval_set=[(X_test, y_test)], verbose=False)"
   ]
  },
  {
   "cell_type": "code",
   "execution_count": 68,
   "id": "bf75d34e",
   "metadata": {},
   "outputs": [
    {
     "name": "stdout",
     "output_type": "stream",
     "text": [
      "MSE: 1.44\n",
      "RMSE: 1.20\n"
     ]
    }
   ],
   "source": [
    "y_pred = regressor.predict(X_test)\n",
    "mse = mean_squared_error(y_test, y_pred)\n",
    "print(\"MSE: %.2f\" % mse)\n",
    "print(\"RMSE: %.2f\" % (mse**(1/2.0)))"
   ]
  },
  {
   "cell_type": "code",
   "execution_count": 99,
   "id": "73ef7a32",
   "metadata": {},
   "outputs": [
    {
     "data": {
      "image/png": "[encoded data removed]",
      "text/plain": [
       "<Figure size 1200x600 with 1 Axes>"
      ]
     },
     "metadata": {},
     "output_type": "display_data"
    }
   ],
   "source": [
    "from xgboost import plot_importance\n",
    "import matplotlib.pyplot as plt\n",
    "plt.style.use('fivethirtyeight')\n",
    "plt.rcParams.update({'font.size': 16})\n",
    "\n",
    "regressor.get_booster().feature_names = feature_names\n",
    "\n",
    "fig, ax = plt.subplots(figsize=(12,6))\n",
    "plot_importance(regressor, max_num_features=9, ax=ax)\n",
    "plt.show();"
   ]
  },
  {
   "cell_type": "code",
   "execution_count": 74,
   "id": "2c543b9c",
   "metadata": {},
   "outputs": [
    {
     "data": {
      "text/plain": [
       "array([ 3.7777894,  0.       , 13.147801 , 62.720905 ,  0.       ,\n",
       "        0.072608 ,  0.       ,  0.       , 20.280897 ], dtype=float32)"
      ]
     },
     "execution_count": 74,
     "metadata": {},
     "output_type": "execute_result"
    }
   ],
   "source": [
    "regressor.feature_importances_*100"
   ]
  },
  {
   "cell_type": "code",
   "execution_count": null,
   "id": "99652149",
   "metadata": {},
   "outputs": [],
   "source": []
  },
  {
   "cell_type": "code",
   "execution_count": null,
   "id": "fa7d622e",
   "metadata": {},
   "outputs": [],
   "source": []
  },
  {
   "cell_type": "code",
   "execution_count": null,
   "id": "d762af8a",
   "metadata": {},
   "outputs": [],
   "source": []
  },
  {
   "cell_type": "code",
   "execution_count": null,
   "id": "f5f16efa",
   "metadata": {},
   "outputs": [],
   "source": []
  }
 ],
 "metadata": {
  "kernelspec": {
   "display_name": "Python 3 (ipykernel)",
   "language": "python",
   "name": "python3"
  },
  "language_info": {
   "codemirror_mode": {
    "name": "ipython",
    "version": 3
   },
   "file_extension": ".py",
   "mimetype": "text/x-python",
   "name": "python",
   "nbconvert_exporter": "python",
   "pygments_lexer": "ipython3",
   "version": "3.11.7"
  }
 },
 "nbformat": 4,
 "nbformat_minor": 5
}
